{
 "cells": [
  {
   "cell_type": "code",
   "execution_count": 1,
   "id": "promising-suggestion",
   "metadata": {
    "_cell_guid": "b1076dfc-b9ad-4769-8c92-a6c4dae69d19",
    "_uuid": "8f2839f25d086af736a60e9eeb907d3b93b6e0e5",
    "execution": {
     "iopub.execute_input": "2021-05-13T10:56:50.966997Z",
     "iopub.status.busy": "2021-05-13T10:56:50.965886Z",
     "iopub.status.idle": "2021-05-13T10:56:50.985840Z",
     "shell.execute_reply": "2021-05-13T10:56:50.986437Z"
    },
    "papermill": {
     "duration": 0.066622,
     "end_time": "2021-05-13T10:56:50.986782",
     "exception": false,
     "start_time": "2021-05-13T10:56:50.920160",
     "status": "completed"
    },
    "tags": []
   },
   "outputs": [
    {
     "name": "stdout",
     "output_type": "stream",
     "text": [
      "/kaggle/input/commonlitreadabilityprize/sample_submission.csv\n",
      "/kaggle/input/commonlitreadabilityprize/train.csv\n",
      "/kaggle/input/commonlitreadabilityprize/test.csv\n",
      "/kaggle/input/nlpword2vecembeddingspretrained/glove.6B.200d.txt\n",
      "/kaggle/input/nlpword2vecembeddingspretrained/glove.6B.50d.txt\n",
      "/kaggle/input/nlpword2vecembeddingspretrained/glove.6B.300d.txt\n",
      "/kaggle/input/nlpword2vecembeddingspretrained/GoogleNews-vectors-negative300.bin\n",
      "/kaggle/input/nlpword2vecembeddingspretrained/glove.6B.100d.txt\n",
      "/kaggle/input/the-new-dalechall-familiar-words-list/DaleChallEasyWordList.txt\n"
     ]
    }
   ],
   "source": [
    "# This Python 3 environment comes with many helpful analytics libraries installed\n",
    "# It is defined by the kaggle/python Docker image: https://github.com/kaggle/docker-python\n",
    "# For example, here's several helpful packages to load\n",
    "\n",
    "import numpy as np # linear algebra\n",
    "import pandas as pd # data processing, CSV file I/O (e.g. pd.read_csv)\n",
    "\n",
    "# Input data files are available in the read-only \"../input/\" directory\n",
    "# For example, running this (by clicking run or pressing Shift+Enter) will list all files under the input directory\n",
    "\n",
    "import os\n",
    "for dirname, _, filenames in os.walk('/kaggle/input'):\n",
    "    for filename in filenames:\n",
    "        print(os.path.join(dirname, filename)) \n",
    "\n",
    "# You can write up to 20GB to the current directory (/kaggle/working/) that gets preserved as output when you create a version using \"Save & Run All\" \n",
    "# You can also write temporary files to /kaggle/temp/, but they won't be saved outside of the current session"
   ]
  },
  {
   "cell_type": "markdown",
   "id": "social-november",
   "metadata": {
    "papermill": {
     "duration": 0.040978,
     "end_time": "2021-05-13T10:56:51.069145",
     "exception": false,
     "start_time": "2021-05-13T10:56:51.028167",
     "status": "completed"
    },
    "tags": []
   },
   "source": [
    "## Data"
   ]
  },
  {
   "cell_type": "code",
   "execution_count": 2,
   "id": "vocal-baghdad",
   "metadata": {
    "execution": {
     "iopub.execute_input": "2021-05-13T10:56:51.155586Z",
     "iopub.status.busy": "2021-05-13T10:56:51.154851Z",
     "iopub.status.idle": "2021-05-13T10:56:51.159024Z",
     "shell.execute_reply": "2021-05-13T10:56:51.159550Z"
    },
    "papermill": {
     "duration": 0.049057,
     "end_time": "2021-05-13T10:56:51.159742",
     "exception": false,
     "start_time": "2021-05-13T10:56:51.110685",
     "status": "completed"
    },
    "tags": []
   },
   "outputs": [],
   "source": [
    "import warnings\n",
    "\n",
    "def fxn():\n",
    "    warnings.warn(\"deprecated\", DeprecationWarning)\n",
    "\n",
    "with warnings.catch_warnings():\n",
    "    warnings.simplefilter(\"ignore\")\n",
    "    fxn()\n",
    "warnings.filterwarnings(\"ignore\") "
   ]
  },
  {
   "cell_type": "code",
   "execution_count": 3,
   "id": "integral-rover",
   "metadata": {
    "execution": {
     "iopub.execute_input": "2021-05-13T10:56:51.252352Z",
     "iopub.status.busy": "2021-05-13T10:56:51.251610Z",
     "iopub.status.idle": "2021-05-13T10:57:00.688310Z",
     "shell.execute_reply": "2021-05-13T10:57:00.687748Z"
    },
    "papermill": {
     "duration": 9.487426,
     "end_time": "2021-05-13T10:57:00.688479",
     "exception": false,
     "start_time": "2021-05-13T10:56:51.201053",
     "status": "completed"
    },
    "tags": []
   },
   "outputs": [
    {
     "data": {
      "text/html": [
       "<style type='text/css'>\n",
       ".datatable table.frame { margin-bottom: 0; }\n",
       ".datatable table.frame thead { border-bottom: none; }\n",
       ".datatable table.frame tr.coltypes td {  color: #FFFFFF;  line-height: 6px;  padding: 0 0.5em;}\n",
       ".datatable .bool    { background: #DDDD99; }\n",
       ".datatable .object  { background: #565656; }\n",
       ".datatable .int     { background: #5D9E5D; }\n",
       ".datatable .float   { background: #4040CC; }\n",
       ".datatable .str     { background: #CC4040; }\n",
       ".datatable .row_index {  background: var(--jp-border-color3);  border-right: 1px solid var(--jp-border-color0);  color: var(--jp-ui-font-color3);  font-size: 9px;}\n",
       ".datatable .frame tr.coltypes .row_index {  background: var(--jp-border-color0);}\n",
       ".datatable th:nth-child(2) { padding-left: 12px; }\n",
       ".datatable .hellipsis {  color: var(--jp-cell-editor-border-color);}\n",
       ".datatable .vellipsis {  background: var(--jp-layout-color0);  color: var(--jp-cell-editor-border-color);}\n",
       ".datatable .na {  color: var(--jp-cell-editor-border-color);  font-size: 80%;}\n",
       ".datatable .footer { font-size: 9px; }\n",
       ".datatable .frame_dimensions {  background: var(--jp-border-color3);  border-top: 1px solid var(--jp-border-color0);  color: var(--jp-ui-font-color3);  display: inline-block;  opacity: 0.6;  padding: 1px 10px 1px 5px;}\n",
       "</style>\n"
      ],
      "text/plain": [
       "<IPython.core.display.HTML object>"
      ]
     },
     "metadata": {},
     "output_type": "display_data"
    }
   ],
   "source": [
    "## Libraries\n",
    "\n",
    "import pandas as pd\n",
    "import re\n",
    "from nltk.corpus import stopwords\n",
    "from nltk.stem.porter import PorterStemmer\n",
    "import nltk\n",
    "from nltk.stem.wordnet import WordNetLemmatizer\n",
    "from nltk.corpus import wordnet \n",
    "import random\n",
    "import spacy\n",
    "import collections\n",
    "from gensim.scripts.glove2word2vec import glove2word2vec\n",
    "from gensim.models import KeyedVectors\n",
    "import numpy as np\n",
    "from sklearn.preprocessing import StandardScaler\n",
    "from sklearn.linear_model import LinearRegression\n",
    "from sklearn.metrics import mean_squared_error\n",
    "from lightgbm import LGBMRegressor\n",
    "from xgboost import XGBRegressor\n",
    "from sklearn.tree import DecisionTreeRegressor\n",
    "from sklearn.model_selection import train_test_split\n",
    "from sklearn.ensemble import GradientBoostingRegressor\n",
    "from keras import Sequential\n",
    "from keras.layers import Dense,LSTM\n",
    "import matplotlib.pyplot as plt"
   ]
  },
  {
   "cell_type": "code",
   "execution_count": 4,
   "id": "neural-palestinian",
   "metadata": {
    "execution": {
     "iopub.execute_input": "2021-05-13T10:57:00.781119Z",
     "iopub.status.busy": "2021-05-13T10:57:00.780388Z",
     "iopub.status.idle": "2021-05-13T10:57:00.896248Z",
     "shell.execute_reply": "2021-05-13T10:57:00.895668Z"
    },
    "papermill": {
     "duration": 0.165386,
     "end_time": "2021-05-13T10:57:00.896415",
     "exception": false,
     "start_time": "2021-05-13T10:57:00.731029",
     "status": "completed"
    },
    "tags": []
   },
   "outputs": [],
   "source": [
    "## Data Reading\n",
    "\n",
    "train = pd.read_csv(\"../input/commonlitreadabilityprize/train.csv\")\n",
    "test = pd.read_csv(\"../input/commonlitreadabilityprize/test.csv\") \n",
    "id_1 = test['id'] "
   ]
  },
  {
   "cell_type": "code",
   "execution_count": 5,
   "id": "beautiful-pixel",
   "metadata": {
    "execution": {
     "iopub.execute_input": "2021-05-13T10:57:00.990847Z",
     "iopub.status.busy": "2021-05-13T10:57:00.990041Z",
     "iopub.status.idle": "2021-05-13T10:57:00.992758Z",
     "shell.execute_reply": "2021-05-13T10:57:00.993189Z"
    },
    "papermill": {
     "duration": 0.05545,
     "end_time": "2021-05-13T10:57:00.993359",
     "exception": false,
     "start_time": "2021-05-13T10:57:00.937909",
     "status": "completed"
    },
    "tags": []
   },
   "outputs": [],
   "source": [
    "train.drop(['url_legal','license','standard_error','id'],axis=1,inplace=True)\n",
    "test.drop(['url_legal','license','id'],axis=1,inplace=True) "
   ]
  },
  {
   "cell_type": "code",
   "execution_count": 6,
   "id": "authorized-california",
   "metadata": {
    "execution": {
     "iopub.execute_input": "2021-05-13T10:57:01.085653Z",
     "iopub.status.busy": "2021-05-13T10:57:01.084955Z",
     "iopub.status.idle": "2021-05-13T10:57:01.088636Z",
     "shell.execute_reply": "2021-05-13T10:57:01.088111Z"
    },
    "papermill": {
     "duration": 0.054047,
     "end_time": "2021-05-13T10:57:01.088787",
     "exception": false,
     "start_time": "2021-05-13T10:57:01.034740",
     "status": "completed"
    },
    "tags": []
   },
   "outputs": [],
   "source": [
    "X = train.drop('target',axis=1)\n",
    "y = train.drop('excerpt',axis=1)"
   ]
  },
  {
   "cell_type": "code",
   "execution_count": 7,
   "id": "entitled-hamburg",
   "metadata": {
    "execution": {
     "iopub.execute_input": "2021-05-13T10:57:01.179188Z",
     "iopub.status.busy": "2021-05-13T10:57:01.178450Z",
     "iopub.status.idle": "2021-05-13T10:57:01.183888Z",
     "shell.execute_reply": "2021-05-13T10:57:01.183258Z"
    },
    "papermill": {
     "duration": 0.052922,
     "end_time": "2021-05-13T10:57:01.184055",
     "exception": false,
     "start_time": "2021-05-13T10:57:01.131133",
     "status": "completed"
    },
    "tags": []
   },
   "outputs": [],
   "source": [
    "X_train,X_test,y_train,y_test = train_test_split(X,y,test_size=0.2) "
   ]
  },
  {
   "cell_type": "code",
   "execution_count": 8,
   "id": "artistic-second",
   "metadata": {
    "execution": {
     "iopub.execute_input": "2021-05-13T10:57:01.275175Z",
     "iopub.status.busy": "2021-05-13T10:57:01.274209Z",
     "iopub.status.idle": "2021-05-13T10:57:01.277583Z",
     "shell.execute_reply": "2021-05-13T10:57:01.276932Z"
    },
    "papermill": {
     "duration": 0.051376,
     "end_time": "2021-05-13T10:57:01.277739",
     "exception": false,
     "start_time": "2021-05-13T10:57:01.226363",
     "status": "completed"
    },
    "tags": []
   },
   "outputs": [],
   "source": [
    "X_train.reset_index(inplace=True,drop=True)\n",
    "y_train.reset_index(inplace=True,drop=True)\n",
    "X_test.reset_index(inplace=True,drop=True)\n",
    "y_test.reset_index(inplace=True,drop=True)"
   ]
  },
  {
   "cell_type": "markdown",
   "id": "signed-particular",
   "metadata": {
    "papermill": {
     "duration": 0.043787,
     "end_time": "2021-05-13T10:57:01.365224",
     "exception": false,
     "start_time": "2021-05-13T10:57:01.321437",
     "status": "completed"
    },
    "tags": []
   },
   "source": [
    "## Data Augmentation"
   ]
  },
  {
   "cell_type": "code",
   "execution_count": 9,
   "id": "subject-course",
   "metadata": {
    "execution": {
     "iopub.execute_input": "2021-05-13T10:57:01.458210Z",
     "iopub.status.busy": "2021-05-13T10:57:01.457568Z",
     "iopub.status.idle": "2021-05-13T10:57:01.459704Z",
     "shell.execute_reply": "2021-05-13T10:57:01.460166Z"
    },
    "papermill": {
     "duration": 0.051894,
     "end_time": "2021-05-13T10:57:01.460361",
     "exception": false,
     "start_time": "2021-05-13T10:57:01.408467",
     "status": "completed"
    },
    "tags": []
   },
   "outputs": [],
   "source": [
    "def get_synonyms(word):\n",
    "    \"\"\"\n",
    "    Get synonyms of a word\n",
    "    \"\"\"\n",
    "    synonyms = set()\n",
    "    \n",
    "    for syn in wordnet.synsets(word): \n",
    "        for l in syn.lemmas(): \n",
    "            synonym = l.name().replace(\"_\", \" \").replace(\"-\", \" \").lower()\n",
    "            synonym = \"\".join([char for char in synonym if char in ' qwertyuiopasdfghjklzxcvbnm'])\n",
    "            synonyms.add(synonym) \n",
    "    \n",
    "    if word in synonyms:\n",
    "        synonyms.remove(word)\n",
    "    \n",
    "    return list(synonyms)"
   ]
  },
  {
   "cell_type": "code",
   "execution_count": 10,
   "id": "subject-breakfast",
   "metadata": {
    "execution": {
     "iopub.execute_input": "2021-05-13T10:57:01.558234Z",
     "iopub.status.busy": "2021-05-13T10:57:01.557295Z",
     "iopub.status.idle": "2021-05-13T10:57:01.560896Z",
     "shell.execute_reply": "2021-05-13T10:57:01.560357Z"
    },
    "papermill": {
     "duration": 0.058066,
     "end_time": "2021-05-13T10:57:01.561049",
     "exception": false,
     "start_time": "2021-05-13T10:57:01.502983",
     "status": "completed"
    },
    "tags": []
   },
   "outputs": [],
   "source": [
    "def synonym_replacement(words, n):\n",
    "    \n",
    "    words = words.split()\n",
    "    \n",
    "    new_words = words.copy()\n",
    "    random_word_list = list(set([word for word in words if word not in stopwords.words('english')]))\n",
    "    random.shuffle(random_word_list)\n",
    "    num_replaced = 0\n",
    "    \n",
    "    for random_word in random_word_list:\n",
    "        synonyms = get_synonyms(random_word)\n",
    "        \n",
    "        if len(synonyms) >= 1:\n",
    "            synonym = random.choice(list(synonyms))\n",
    "            new_words = [synonym if word == random_word else word for word in new_words]\n",
    "            num_replaced += 1\n",
    "        \n",
    "        if num_replaced >= n: #only replace up to n words\n",
    "            break\n",
    "\n",
    "    sentence = ' '.join(new_words)\n",
    "\n",
    "    return sentence\n"
   ]
  },
  {
   "cell_type": "code",
   "execution_count": 11,
   "id": "simple-psychology",
   "metadata": {
    "execution": {
     "iopub.execute_input": "2021-05-13T10:57:01.654455Z",
     "iopub.status.busy": "2021-05-13T10:57:01.653531Z",
     "iopub.status.idle": "2021-05-13T10:57:01.657053Z",
     "shell.execute_reply": "2021-05-13T10:57:01.656537Z"
    },
    "papermill": {
     "duration": 0.053887,
     "end_time": "2021-05-13T10:57:01.657186",
     "exception": false,
     "start_time": "2021-05-13T10:57:01.603299",
     "status": "completed"
    },
    "tags": []
   },
   "outputs": [],
   "source": [
    "def swap_word(new_words):\n",
    "    \n",
    "    random_idx_1 = random.randint(0, len(new_words)-1)\n",
    "    random_idx_2 = random_idx_1\n",
    "    counter = 0\n",
    "    \n",
    "    while random_idx_2 == random_idx_1:\n",
    "        random_idx_2 = random.randint(0, len(new_words)-1)\n",
    "        counter += 1\n",
    "        \n",
    "        if counter > 3:\n",
    "            return new_words\n",
    "    \n",
    "    new_words[random_idx_1], new_words[random_idx_2] = new_words[random_idx_2], new_words[random_idx_1] \n",
    "    return new_words\n",
    "\n",
    "def random_swap(words, n):\n",
    "    \n",
    "    words = words.split()\n",
    "    new_words = words.copy()\n",
    "    \n",
    "    for _ in range(n):\n",
    "        new_words = swap_word(new_words)\n",
    "        \n",
    "    sentence = ' '.join(new_words)\n",
    "    \n",
    "    return sentence"
   ]
  },
  {
   "cell_type": "code",
   "execution_count": 12,
   "id": "dynamic-petroleum",
   "metadata": {
    "execution": {
     "iopub.execute_input": "2021-05-13T10:57:01.749313Z",
     "iopub.status.busy": "2021-05-13T10:57:01.748683Z",
     "iopub.status.idle": "2021-05-13T10:57:01.752115Z",
     "shell.execute_reply": "2021-05-13T10:57:01.751160Z"
    },
    "papermill": {
     "duration": 0.052955,
     "end_time": "2021-05-13T10:57:01.752272",
     "exception": false,
     "start_time": "2021-05-13T10:57:01.699317",
     "status": "completed"
    },
    "tags": []
   },
   "outputs": [],
   "source": [
    "def add_word(new_words):\n",
    "    \n",
    "    synonyms = []\n",
    "    counter = 0\n",
    "    \n",
    "    while len(synonyms) < 1:\n",
    "        random_word = new_words[random.randint(0, len(new_words)-1)]\n",
    "        synonyms = get_synonyms(random_word)\n",
    "        counter += 1\n",
    "        if counter >= 10:\n",
    "            return\n",
    "        \n",
    "    random_synonym = synonyms[0]\n",
    "    random_idx = random.randint(0, len(new_words)-1)\n",
    "    new_words.insert(random_idx, random_synonym)\n",
    "    \n",
    "def random_insertion(words, n):\n",
    "    \n",
    "    words = words.split()\n",
    "    new_words = words.copy()\n",
    "    \n",
    "    for _ in range(n):\n",
    "        add_word(new_words)\n",
    "        \n",
    "    sentence = ' '.join(new_words)\n",
    "    return sentence"
   ]
  },
  {
   "cell_type": "code",
   "execution_count": 13,
   "id": "negative-share",
   "metadata": {
    "execution": {
     "iopub.execute_input": "2021-05-13T10:57:01.845262Z",
     "iopub.status.busy": "2021-05-13T10:57:01.844552Z",
     "iopub.status.idle": "2021-05-13T10:57:01.847591Z",
     "shell.execute_reply": "2021-05-13T10:57:01.848063Z"
    },
    "papermill": {
     "duration": 0.053617,
     "end_time": "2021-05-13T10:57:01.848269",
     "exception": false,
     "start_time": "2021-05-13T10:57:01.794652",
     "status": "completed"
    },
    "tags": []
   },
   "outputs": [],
   "source": [
    "def augment(no_of_word):\n",
    "    aug = []\n",
    "    t = []\n",
    "    for r in range(len(X_train)):\n",
    "        text = X_train['excerpt'][r]\n",
    "        target_ = y_train['target'][r]\n",
    "        aug.append(synonym_replacement(text, no_of_word)) \n",
    "        t.append(target_)\n",
    "        aug.append(synonym_replacement(text, no_of_word)) \n",
    "        t.append(target_)\n",
    "        aug.append(random_swap(text,no_of_word))\n",
    "        t.append(target_)\n",
    "        aug.append(random_insertion(text, no_of_word))\n",
    "        t.append(target_)\n",
    "    return aug,t"
   ]
  },
  {
   "cell_type": "code",
   "execution_count": 14,
   "id": "binding-fifty",
   "metadata": {
    "execution": {
     "iopub.execute_input": "2021-05-13T10:57:01.943060Z",
     "iopub.status.busy": "2021-05-13T10:57:01.942398Z",
     "iopub.status.idle": "2021-05-13T10:58:46.451006Z",
     "shell.execute_reply": "2021-05-13T10:58:46.450301Z"
    },
    "papermill": {
     "duration": 104.558772,
     "end_time": "2021-05-13T10:58:46.451207",
     "exception": false,
     "start_time": "2021-05-13T10:57:01.892435",
     "status": "completed"
    },
    "tags": []
   },
   "outputs": [],
   "source": [
    "x,y = augment(4) \n",
    "data_x = pd.DataFrame({\"excerpt\":x})\n",
    "data_y = pd.DataFrame({\"target\":y}) "
   ]
  },
  {
   "cell_type": "code",
   "execution_count": 15,
   "id": "saving-dispatch",
   "metadata": {
    "execution": {
     "iopub.execute_input": "2021-05-13T10:58:46.548129Z",
     "iopub.status.busy": "2021-05-13T10:58:46.547453Z",
     "iopub.status.idle": "2021-05-13T10:58:46.550876Z",
     "shell.execute_reply": "2021-05-13T10:58:46.550240Z"
    },
    "papermill": {
     "duration": 0.055953,
     "end_time": "2021-05-13T10:58:46.551012",
     "exception": false,
     "start_time": "2021-05-13T10:58:46.495059",
     "status": "completed"
    },
    "tags": []
   },
   "outputs": [],
   "source": [
    "X_train = pd.concat([X_train,data_x])\n",
    "y_train = pd.concat([y_train,data_y])"
   ]
  },
  {
   "cell_type": "code",
   "execution_count": 16,
   "id": "disciplinary-realtor",
   "metadata": {
    "execution": {
     "iopub.execute_input": "2021-05-13T10:58:46.642921Z",
     "iopub.status.busy": "2021-05-13T10:58:46.642264Z",
     "iopub.status.idle": "2021-05-13T10:58:46.645635Z",
     "shell.execute_reply": "2021-05-13T10:58:46.645130Z"
    },
    "papermill": {
     "duration": 0.051581,
     "end_time": "2021-05-13T10:58:46.645782",
     "exception": false,
     "start_time": "2021-05-13T10:58:46.594201",
     "status": "completed"
    },
    "tags": []
   },
   "outputs": [],
   "source": [
    "X_train.reset_index(inplace=True,drop = True)\n",
    "y_train.reset_index(inplace=True,drop = True)"
   ]
  },
  {
   "cell_type": "code",
   "execution_count": 17,
   "id": "ignored-moldova",
   "metadata": {
    "execution": {
     "iopub.execute_input": "2021-05-13T10:58:46.739133Z",
     "iopub.status.busy": "2021-05-13T10:58:46.738480Z",
     "iopub.status.idle": "2021-05-13T10:58:46.752945Z",
     "shell.execute_reply": "2021-05-13T10:58:46.752358Z"
    },
    "papermill": {
     "duration": 0.064834,
     "end_time": "2021-05-13T10:58:46.753087",
     "exception": false,
     "start_time": "2021-05-13T10:58:46.688253",
     "status": "completed"
    },
    "tags": []
   },
   "outputs": [
    {
     "data": {
      "text/html": [
       "<div>\n",
       "<style scoped>\n",
       "    .dataframe tbody tr th:only-of-type {\n",
       "        vertical-align: middle;\n",
       "    }\n",
       "\n",
       "    .dataframe tbody tr th {\n",
       "        vertical-align: top;\n",
       "    }\n",
       "\n",
       "    .dataframe thead th {\n",
       "        text-align: right;\n",
       "    }\n",
       "</style>\n",
       "<table border=\"1\" class=\"dataframe\">\n",
       "  <thead>\n",
       "    <tr style=\"text-align: right;\">\n",
       "      <th></th>\n",
       "      <th>excerpt</th>\n",
       "    </tr>\n",
       "  </thead>\n",
       "  <tbody>\n",
       "    <tr>\n",
       "      <th>0</th>\n",
       "      <td>Long, long, time ago, all the animals could ta...</td>\n",
       "    </tr>\n",
       "    <tr>\n",
       "      <th>1</th>\n",
       "      <td>The iron cylinder weighs 23 kilogrammes; but, ...</td>\n",
       "    </tr>\n",
       "    <tr>\n",
       "      <th>2</th>\n",
       "      <td>Frederick Fleet, who was lookout in the crow's...</td>\n",
       "    </tr>\n",
       "    <tr>\n",
       "      <th>3</th>\n",
       "      <td>In March of 1897, William McKinley was inaugur...</td>\n",
       "    </tr>\n",
       "    <tr>\n",
       "      <th>4</th>\n",
       "      <td>Long ago, there was a clever cat and a foolish...</td>\n",
       "    </tr>\n",
       "    <tr>\n",
       "      <th>...</th>\n",
       "      <td>...</td>\n",
       "    </tr>\n",
       "    <tr>\n",
       "      <th>11330</th>\n",
       "      <td>But the sting certainly does not exhaust the w...</td>\n",
       "    </tr>\n",
       "    <tr>\n",
       "      <th>11331</th>\n",
       "      <td>There has lately been held, at No. 31 Lombard ...</td>\n",
       "    </tr>\n",
       "    <tr>\n",
       "      <th>11332</th>\n",
       "      <td>There has lately been held, at No. 31 Lombard ...</td>\n",
       "    </tr>\n",
       "    <tr>\n",
       "      <th>11333</th>\n",
       "      <td>There has lately been held, at No. 31 Lombard ...</td>\n",
       "    </tr>\n",
       "    <tr>\n",
       "      <th>11334</th>\n",
       "      <td>There has lately been held, at No. 31 Lombard ...</td>\n",
       "    </tr>\n",
       "  </tbody>\n",
       "</table>\n",
       "<p>11335 rows × 1 columns</p>\n",
       "</div>"
      ],
      "text/plain": [
       "                                                 excerpt\n",
       "0      Long, long, time ago, all the animals could ta...\n",
       "1      The iron cylinder weighs 23 kilogrammes; but, ...\n",
       "2      Frederick Fleet, who was lookout in the crow's...\n",
       "3      In March of 1897, William McKinley was inaugur...\n",
       "4      Long ago, there was a clever cat and a foolish...\n",
       "...                                                  ...\n",
       "11330  But the sting certainly does not exhaust the w...\n",
       "11331  There has lately been held, at No. 31 Lombard ...\n",
       "11332  There has lately been held, at No. 31 Lombard ...\n",
       "11333  There has lately been held, at No. 31 Lombard ...\n",
       "11334  There has lately been held, at No. 31 Lombard ...\n",
       "\n",
       "[11335 rows x 1 columns]"
      ]
     },
     "execution_count": 17,
     "metadata": {},
     "output_type": "execute_result"
    }
   ],
   "source": [
    "X_train"
   ]
  },
  {
   "cell_type": "code",
   "execution_count": 18,
   "id": "hungarian-capitol",
   "metadata": {
    "execution": {
     "iopub.execute_input": "2021-05-13T10:58:46.854148Z",
     "iopub.status.busy": "2021-05-13T10:58:46.853254Z",
     "iopub.status.idle": "2021-05-13T10:58:46.858519Z",
     "shell.execute_reply": "2021-05-13T10:58:46.857938Z"
    },
    "papermill": {
     "duration": 0.061232,
     "end_time": "2021-05-13T10:58:46.858670",
     "exception": false,
     "start_time": "2021-05-13T10:58:46.797438",
     "status": "completed"
    },
    "tags": []
   },
   "outputs": [
    {
     "data": {
      "text/html": [
       "<div>\n",
       "<style scoped>\n",
       "    .dataframe tbody tr th:only-of-type {\n",
       "        vertical-align: middle;\n",
       "    }\n",
       "\n",
       "    .dataframe tbody tr th {\n",
       "        vertical-align: top;\n",
       "    }\n",
       "\n",
       "    .dataframe thead th {\n",
       "        text-align: right;\n",
       "    }\n",
       "</style>\n",
       "<table border=\"1\" class=\"dataframe\">\n",
       "  <thead>\n",
       "    <tr style=\"text-align: right;\">\n",
       "      <th></th>\n",
       "      <th>target</th>\n",
       "    </tr>\n",
       "  </thead>\n",
       "  <tbody>\n",
       "    <tr>\n",
       "      <th>0</th>\n",
       "      <td>0.866330</td>\n",
       "    </tr>\n",
       "    <tr>\n",
       "      <th>1</th>\n",
       "      <td>-3.642892</td>\n",
       "    </tr>\n",
       "    <tr>\n",
       "      <th>2</th>\n",
       "      <td>-0.952409</td>\n",
       "    </tr>\n",
       "    <tr>\n",
       "      <th>3</th>\n",
       "      <td>-1.259490</td>\n",
       "    </tr>\n",
       "    <tr>\n",
       "      <th>4</th>\n",
       "      <td>0.653171</td>\n",
       "    </tr>\n",
       "    <tr>\n",
       "      <th>...</th>\n",
       "      <td>...</td>\n",
       "    </tr>\n",
       "    <tr>\n",
       "      <th>11330</th>\n",
       "      <td>-1.795783</td>\n",
       "    </tr>\n",
       "    <tr>\n",
       "      <th>11331</th>\n",
       "      <td>-1.949839</td>\n",
       "    </tr>\n",
       "    <tr>\n",
       "      <th>11332</th>\n",
       "      <td>-1.949839</td>\n",
       "    </tr>\n",
       "    <tr>\n",
       "      <th>11333</th>\n",
       "      <td>-1.949839</td>\n",
       "    </tr>\n",
       "    <tr>\n",
       "      <th>11334</th>\n",
       "      <td>-1.949839</td>\n",
       "    </tr>\n",
       "  </tbody>\n",
       "</table>\n",
       "<p>11335 rows × 1 columns</p>\n",
       "</div>"
      ],
      "text/plain": [
       "         target\n",
       "0      0.866330\n",
       "1     -3.642892\n",
       "2     -0.952409\n",
       "3     -1.259490\n",
       "4      0.653171\n",
       "...         ...\n",
       "11330 -1.795783\n",
       "11331 -1.949839\n",
       "11332 -1.949839\n",
       "11333 -1.949839\n",
       "11334 -1.949839\n",
       "\n",
       "[11335 rows x 1 columns]"
      ]
     },
     "execution_count": 18,
     "metadata": {},
     "output_type": "execute_result"
    }
   ],
   "source": [
    "y_train"
   ]
  },
  {
   "cell_type": "markdown",
   "id": "established-mixture",
   "metadata": {
    "papermill": {
     "duration": 0.044439,
     "end_time": "2021-05-13T10:58:46.948116",
     "exception": false,
     "start_time": "2021-05-13T10:58:46.903677",
     "status": "completed"
    },
    "tags": []
   },
   "source": [
    "## POS "
   ]
  },
  {
   "cell_type": "code",
   "execution_count": 19,
   "id": "substantial-indian",
   "metadata": {
    "execution": {
     "iopub.execute_input": "2021-05-13T10:58:47.061868Z",
     "iopub.status.busy": "2021-05-13T10:58:47.056647Z",
     "iopub.status.idle": "2021-05-13T10:58:47.477847Z",
     "shell.execute_reply": "2021-05-13T10:58:47.477126Z"
    },
    "papermill": {
     "duration": 0.484723,
     "end_time": "2021-05-13T10:58:47.477994",
     "exception": false,
     "start_time": "2021-05-13T10:58:46.993271",
     "status": "completed"
    },
    "tags": []
   },
   "outputs": [],
   "source": [
    "X_train['word_count'] = X_train[\"excerpt\"].apply(lambda x: len(str(x).split(\" \")))\n",
    "X_train['char_count'] = X_train[\"excerpt\"].apply(lambda x: sum(len(word) for word in str(x).split(\" \")))\n",
    "X_train['sentence_count'] = X_train[\"excerpt\"].apply(lambda x: len(str(x).split(\".\")))\n",
    "X_train['avg_word_length'] = X_train['char_count'] / X_train['word_count']\n",
    "X_train['avg_sentence_lenght'] = X_train['word_count'] / X_train['sentence_count']\n",
    "\n",
    "X_test['word_count'] = X_test[\"excerpt\"].apply(lambda x: len(str(x).split(\" \")))\n",
    "X_test['char_count'] = X_test[\"excerpt\"].apply(lambda x: sum(len(word) for word in str(x).split(\" \")))\n",
    "X_test['sentence_count'] = X_test[\"excerpt\"].apply(lambda x: len(str(x).split(\".\")))\n",
    "X_test['avg_word_length'] = X_test['char_count'] / X_test['word_count']\n",
    "X_test['avg_sentence_lenght'] = X_test['word_count'] / X_test['sentence_count'] \n",
    "\n",
    "test['word_count'] = test[\"excerpt\"].apply(lambda x: len(str(x).split(\" \")))\n",
    "test['char_count'] = test[\"excerpt\"].apply(lambda x: sum(len(word) for word in str(x).split(\" \")))\n",
    "test['sentence_count'] = test[\"excerpt\"].apply(lambda x: len(str(x).split(\".\")))\n",
    "test['avg_word_length'] = test['char_count'] / test['word_count']\n",
    "test['avg_sentence_lenght'] = test['word_count'] / test['sentence_count'] "
   ]
  },
  {
   "cell_type": "code",
   "execution_count": 20,
   "id": "dense-instrument",
   "metadata": {
    "execution": {
     "iopub.execute_input": "2021-05-13T10:58:47.577862Z",
     "iopub.status.busy": "2021-05-13T10:58:47.572420Z",
     "iopub.status.idle": "2021-05-13T10:58:47.582662Z",
     "shell.execute_reply": "2021-05-13T10:58:47.582129Z"
    },
    "papermill": {
     "duration": 0.060227,
     "end_time": "2021-05-13T10:58:47.582793",
     "exception": false,
     "start_time": "2021-05-13T10:58:47.522566",
     "status": "completed"
    },
    "tags": []
   },
   "outputs": [
    {
     "data": {
      "text/html": [
       "<div>\n",
       "<style scoped>\n",
       "    .dataframe tbody tr th:only-of-type {\n",
       "        vertical-align: middle;\n",
       "    }\n",
       "\n",
       "    .dataframe tbody tr th {\n",
       "        vertical-align: top;\n",
       "    }\n",
       "\n",
       "    .dataframe thead th {\n",
       "        text-align: right;\n",
       "    }\n",
       "</style>\n",
       "<table border=\"1\" class=\"dataframe\">\n",
       "  <thead>\n",
       "    <tr style=\"text-align: right;\">\n",
       "      <th></th>\n",
       "      <th>excerpt</th>\n",
       "      <th>word_count</th>\n",
       "      <th>char_count</th>\n",
       "      <th>sentence_count</th>\n",
       "      <th>avg_word_length</th>\n",
       "      <th>avg_sentence_lenght</th>\n",
       "    </tr>\n",
       "  </thead>\n",
       "  <tbody>\n",
       "    <tr>\n",
       "      <th>0</th>\n",
       "      <td>Long, long, time ago, all the animals could ta...</td>\n",
       "      <td>145</td>\n",
       "      <td>698</td>\n",
       "      <td>13</td>\n",
       "      <td>4.813793</td>\n",
       "      <td>11.153846</td>\n",
       "    </tr>\n",
       "  </tbody>\n",
       "</table>\n",
       "</div>"
      ],
      "text/plain": [
       "                                             excerpt  word_count  char_count  \\\n",
       "0  Long, long, time ago, all the animals could ta...         145         698   \n",
       "\n",
       "   sentence_count  avg_word_length  avg_sentence_lenght  \n",
       "0              13         4.813793            11.153846  "
      ]
     },
     "execution_count": 20,
     "metadata": {},
     "output_type": "execute_result"
    }
   ],
   "source": [
    "X_train.head(1)"
   ]
  },
  {
   "cell_type": "code",
   "execution_count": 21,
   "id": "attractive-picture",
   "metadata": {
    "execution": {
     "iopub.execute_input": "2021-05-13T10:58:47.684023Z",
     "iopub.status.busy": "2021-05-13T10:58:47.683185Z",
     "iopub.status.idle": "2021-05-13T10:58:47.688381Z",
     "shell.execute_reply": "2021-05-13T10:58:47.687466Z"
    },
    "papermill": {
     "duration": 0.061164,
     "end_time": "2021-05-13T10:58:47.688544",
     "exception": false,
     "start_time": "2021-05-13T10:58:47.627380",
     "status": "completed"
    },
    "tags": []
   },
   "outputs": [
    {
     "data": {
      "text/html": [
       "<div>\n",
       "<style scoped>\n",
       "    .dataframe tbody tr th:only-of-type {\n",
       "        vertical-align: middle;\n",
       "    }\n",
       "\n",
       "    .dataframe tbody tr th {\n",
       "        vertical-align: top;\n",
       "    }\n",
       "\n",
       "    .dataframe thead th {\n",
       "        text-align: right;\n",
       "    }\n",
       "</style>\n",
       "<table border=\"1\" class=\"dataframe\">\n",
       "  <thead>\n",
       "    <tr style=\"text-align: right;\">\n",
       "      <th></th>\n",
       "      <th>excerpt</th>\n",
       "      <th>word_count</th>\n",
       "      <th>char_count</th>\n",
       "      <th>sentence_count</th>\n",
       "      <th>avg_word_length</th>\n",
       "      <th>avg_sentence_lenght</th>\n",
       "    </tr>\n",
       "  </thead>\n",
       "  <tbody>\n",
       "    <tr>\n",
       "      <th>0</th>\n",
       "      <td>In the 1980s, many people liked to use an oper...</td>\n",
       "      <td>165</td>\n",
       "      <td>813</td>\n",
       "      <td>14</td>\n",
       "      <td>4.927273</td>\n",
       "      <td>11.785714</td>\n",
       "    </tr>\n",
       "  </tbody>\n",
       "</table>\n",
       "</div>"
      ],
      "text/plain": [
       "                                             excerpt  word_count  char_count  \\\n",
       "0  In the 1980s, many people liked to use an oper...         165         813   \n",
       "\n",
       "   sentence_count  avg_word_length  avg_sentence_lenght  \n",
       "0              14         4.927273            11.785714  "
      ]
     },
     "execution_count": 21,
     "metadata": {},
     "output_type": "execute_result"
    }
   ],
   "source": [
    "X_test.head(1)"
   ]
  },
  {
   "cell_type": "code",
   "execution_count": 22,
   "id": "enormous-crack",
   "metadata": {
    "execution": {
     "iopub.execute_input": "2021-05-13T10:58:47.791122Z",
     "iopub.status.busy": "2021-05-13T10:58:47.790253Z",
     "iopub.status.idle": "2021-05-13T10:58:47.795238Z",
     "shell.execute_reply": "2021-05-13T10:58:47.794197Z"
    },
    "papermill": {
     "duration": 0.061495,
     "end_time": "2021-05-13T10:58:47.795431",
     "exception": false,
     "start_time": "2021-05-13T10:58:47.733936",
     "status": "completed"
    },
    "tags": []
   },
   "outputs": [
    {
     "data": {
      "text/html": [
       "<div>\n",
       "<style scoped>\n",
       "    .dataframe tbody tr th:only-of-type {\n",
       "        vertical-align: middle;\n",
       "    }\n",
       "\n",
       "    .dataframe tbody tr th {\n",
       "        vertical-align: top;\n",
       "    }\n",
       "\n",
       "    .dataframe thead th {\n",
       "        text-align: right;\n",
       "    }\n",
       "</style>\n",
       "<table border=\"1\" class=\"dataframe\">\n",
       "  <thead>\n",
       "    <tr style=\"text-align: right;\">\n",
       "      <th></th>\n",
       "      <th>excerpt</th>\n",
       "      <th>word_count</th>\n",
       "      <th>char_count</th>\n",
       "      <th>sentence_count</th>\n",
       "      <th>avg_word_length</th>\n",
       "      <th>avg_sentence_lenght</th>\n",
       "    </tr>\n",
       "  </thead>\n",
       "  <tbody>\n",
       "    <tr>\n",
       "      <th>0</th>\n",
       "      <td>My hope lay in Jack's promise that he would ke...</td>\n",
       "      <td>147</td>\n",
       "      <td>626</td>\n",
       "      <td>9</td>\n",
       "      <td>4.258503</td>\n",
       "      <td>16.333333</td>\n",
       "    </tr>\n",
       "  </tbody>\n",
       "</table>\n",
       "</div>"
      ],
      "text/plain": [
       "                                             excerpt  word_count  char_count  \\\n",
       "0  My hope lay in Jack's promise that he would ke...         147         626   \n",
       "\n",
       "   sentence_count  avg_word_length  avg_sentence_lenght  \n",
       "0               9         4.258503            16.333333  "
      ]
     },
     "execution_count": 22,
     "metadata": {},
     "output_type": "execute_result"
    }
   ],
   "source": [
    "test.head(1)"
   ]
  },
  {
   "cell_type": "code",
   "execution_count": 23,
   "id": "physical-refund",
   "metadata": {
    "execution": {
     "iopub.execute_input": "2021-05-13T10:58:47.893360Z",
     "iopub.status.busy": "2021-05-13T10:58:47.892751Z",
     "iopub.status.idle": "2021-05-13T10:58:47.904637Z",
     "shell.execute_reply": "2021-05-13T10:58:47.905093Z"
    },
    "papermill": {
     "duration": 0.063534,
     "end_time": "2021-05-13T10:58:47.905267",
     "exception": false,
     "start_time": "2021-05-13T10:58:47.841733",
     "status": "completed"
    },
    "tags": []
   },
   "outputs": [],
   "source": [
    "f = open(\"../input/the-new-dalechall-familiar-words-list/DaleChallEasyWordList.txt\",\"r\")\n",
    "words = f.readlines()\n",
    "f.close() "
   ]
  },
  {
   "cell_type": "code",
   "execution_count": 24,
   "id": "spectacular-clarity",
   "metadata": {
    "execution": {
     "iopub.execute_input": "2021-05-13T10:58:48.002080Z",
     "iopub.status.busy": "2021-05-13T10:58:48.001113Z",
     "iopub.status.idle": "2021-05-13T11:15:02.959046Z",
     "shell.execute_reply": "2021-05-13T11:15:02.958439Z"
    },
    "papermill": {
     "duration": 975.007692,
     "end_time": "2021-05-13T11:15:02.959205",
     "exception": false,
     "start_time": "2021-05-13T10:58:47.951513",
     "status": "completed"
    },
    "tags": []
   },
   "outputs": [],
   "source": [
    "def easy_words(string):\n",
    "    c = 0\n",
    "    for word in string.split():\n",
    "        for i in range(len(words)):\n",
    "            if word == words[i].strip():\n",
    "                c = c + 1            \n",
    "    return(c)\n",
    "X_train['easy_words'] = X_train['excerpt'].apply(lambda x : easy_words(x))\n",
    "X_test['easy_words'] = X_test['excerpt'].apply(lambda x : easy_words(x))    \n",
    "test['easy_words'] = test['excerpt'].apply(lambda x : easy_words(x))    "
   ]
  },
  {
   "cell_type": "code",
   "execution_count": 25,
   "id": "decimal-cover",
   "metadata": {
    "execution": {
     "iopub.execute_input": "2021-05-13T11:15:03.079268Z",
     "iopub.status.busy": "2021-05-13T11:15:03.062904Z",
     "iopub.status.idle": "2021-05-13T11:15:04.683869Z",
     "shell.execute_reply": "2021-05-13T11:15:04.684415Z"
    },
    "papermill": {
     "duration": 1.678314,
     "end_time": "2021-05-13T11:15:04.684619",
     "exception": false,
     "start_time": "2021-05-13T11:15:03.006305",
     "status": "completed"
    },
    "tags": []
   },
   "outputs": [],
   "source": [
    "def syllable_count(word):\n",
    "    word = word.lower()\n",
    "    count = 0\n",
    "    vowels = \"aeiouy\"\n",
    "    if word[0] in vowels:\n",
    "        count += 1\n",
    "    for index in range(1, len(word)):\n",
    "        if word[index] in vowels and word[index - 1] not in vowels:\n",
    "            count += 1\n",
    "    if word.endswith(\"e\"):\n",
    "        count -= 1\n",
    "    if count == 0:\n",
    "        count += 1\n",
    "    c = 0\n",
    "    if count >=3:\n",
    "        c = c + 1\n",
    "    return c\n",
    "X_train['no_syllables'] = X_train['excerpt'].apply(lambda x : syllable_count(x))\n",
    "X_test['no_syllables'] = X_test['excerpt'].apply(lambda x : syllable_count(x))\n",
    "test['no_syllables'] = test['excerpt'].apply(lambda x : syllable_count(x))"
   ]
  },
  {
   "cell_type": "code",
   "execution_count": 26,
   "id": "caroline-humanity",
   "metadata": {
    "execution": {
     "iopub.execute_input": "2021-05-13T11:15:04.792056Z",
     "iopub.status.busy": "2021-05-13T11:15:04.791374Z",
     "iopub.status.idle": "2021-05-13T11:15:04.795313Z",
     "shell.execute_reply": "2021-05-13T11:15:04.794820Z"
    },
    "papermill": {
     "duration": 0.064573,
     "end_time": "2021-05-13T11:15:04.795470",
     "exception": false,
     "start_time": "2021-05-13T11:15:04.730897",
     "status": "completed"
    },
    "tags": []
   },
   "outputs": [
    {
     "data": {
      "text/html": [
       "<div>\n",
       "<style scoped>\n",
       "    .dataframe tbody tr th:only-of-type {\n",
       "        vertical-align: middle;\n",
       "    }\n",
       "\n",
       "    .dataframe tbody tr th {\n",
       "        vertical-align: top;\n",
       "    }\n",
       "\n",
       "    .dataframe thead th {\n",
       "        text-align: right;\n",
       "    }\n",
       "</style>\n",
       "<table border=\"1\" class=\"dataframe\">\n",
       "  <thead>\n",
       "    <tr style=\"text-align: right;\">\n",
       "      <th></th>\n",
       "      <th>excerpt</th>\n",
       "      <th>word_count</th>\n",
       "      <th>char_count</th>\n",
       "      <th>sentence_count</th>\n",
       "      <th>avg_word_length</th>\n",
       "      <th>avg_sentence_lenght</th>\n",
       "      <th>easy_words</th>\n",
       "      <th>no_syllables</th>\n",
       "    </tr>\n",
       "  </thead>\n",
       "  <tbody>\n",
       "    <tr>\n",
       "      <th>0</th>\n",
       "      <td>Long, long, time ago, all the animals could ta...</td>\n",
       "      <td>145</td>\n",
       "      <td>698</td>\n",
       "      <td>13</td>\n",
       "      <td>4.813793</td>\n",
       "      <td>11.153846</td>\n",
       "      <td>74</td>\n",
       "      <td>1</td>\n",
       "    </tr>\n",
       "  </tbody>\n",
       "</table>\n",
       "</div>"
      ],
      "text/plain": [
       "                                             excerpt  word_count  char_count  \\\n",
       "0  Long, long, time ago, all the animals could ta...         145         698   \n",
       "\n",
       "   sentence_count  avg_word_length  avg_sentence_lenght  easy_words  \\\n",
       "0              13         4.813793            11.153846          74   \n",
       "\n",
       "   no_syllables  \n",
       "0             1  "
      ]
     },
     "execution_count": 26,
     "metadata": {},
     "output_type": "execute_result"
    }
   ],
   "source": [
    "X_train.head(1)"
   ]
  },
  {
   "cell_type": "code",
   "execution_count": 27,
   "id": "regular-tamil",
   "metadata": {
    "execution": {
     "iopub.execute_input": "2021-05-13T11:15:04.901809Z",
     "iopub.status.busy": "2021-05-13T11:15:04.901146Z",
     "iopub.status.idle": "2021-05-13T11:15:04.903998Z",
     "shell.execute_reply": "2021-05-13T11:15:04.904525Z"
    },
    "papermill": {
     "duration": 0.061939,
     "end_time": "2021-05-13T11:15:04.904712",
     "exception": false,
     "start_time": "2021-05-13T11:15:04.842773",
     "status": "completed"
    },
    "tags": []
   },
   "outputs": [
    {
     "data": {
      "text/html": [
       "<div>\n",
       "<style scoped>\n",
       "    .dataframe tbody tr th:only-of-type {\n",
       "        vertical-align: middle;\n",
       "    }\n",
       "\n",
       "    .dataframe tbody tr th {\n",
       "        vertical-align: top;\n",
       "    }\n",
       "\n",
       "    .dataframe thead th {\n",
       "        text-align: right;\n",
       "    }\n",
       "</style>\n",
       "<table border=\"1\" class=\"dataframe\">\n",
       "  <thead>\n",
       "    <tr style=\"text-align: right;\">\n",
       "      <th></th>\n",
       "      <th>excerpt</th>\n",
       "      <th>word_count</th>\n",
       "      <th>char_count</th>\n",
       "      <th>sentence_count</th>\n",
       "      <th>avg_word_length</th>\n",
       "      <th>avg_sentence_lenght</th>\n",
       "      <th>easy_words</th>\n",
       "      <th>no_syllables</th>\n",
       "    </tr>\n",
       "  </thead>\n",
       "  <tbody>\n",
       "    <tr>\n",
       "      <th>0</th>\n",
       "      <td>In the 1980s, many people liked to use an oper...</td>\n",
       "      <td>165</td>\n",
       "      <td>813</td>\n",
       "      <td>14</td>\n",
       "      <td>4.927273</td>\n",
       "      <td>11.785714</td>\n",
       "      <td>90</td>\n",
       "      <td>1</td>\n",
       "    </tr>\n",
       "  </tbody>\n",
       "</table>\n",
       "</div>"
      ],
      "text/plain": [
       "                                             excerpt  word_count  char_count  \\\n",
       "0  In the 1980s, many people liked to use an oper...         165         813   \n",
       "\n",
       "   sentence_count  avg_word_length  avg_sentence_lenght  easy_words  \\\n",
       "0              14         4.927273            11.785714          90   \n",
       "\n",
       "   no_syllables  \n",
       "0             1  "
      ]
     },
     "execution_count": 27,
     "metadata": {},
     "output_type": "execute_result"
    }
   ],
   "source": [
    "X_test.head(1)"
   ]
  },
  {
   "cell_type": "code",
   "execution_count": 28,
   "id": "absent-spare",
   "metadata": {
    "execution": {
     "iopub.execute_input": "2021-05-13T11:15:05.004096Z",
     "iopub.status.busy": "2021-05-13T11:15:05.003457Z",
     "iopub.status.idle": "2021-05-13T11:15:05.014472Z",
     "shell.execute_reply": "2021-05-13T11:15:05.014924Z"
    },
    "papermill": {
     "duration": 0.062257,
     "end_time": "2021-05-13T11:15:05.015126",
     "exception": false,
     "start_time": "2021-05-13T11:15:04.952869",
     "status": "completed"
    },
    "tags": []
   },
   "outputs": [
    {
     "data": {
      "text/html": [
       "<div>\n",
       "<style scoped>\n",
       "    .dataframe tbody tr th:only-of-type {\n",
       "        vertical-align: middle;\n",
       "    }\n",
       "\n",
       "    .dataframe tbody tr th {\n",
       "        vertical-align: top;\n",
       "    }\n",
       "\n",
       "    .dataframe thead th {\n",
       "        text-align: right;\n",
       "    }\n",
       "</style>\n",
       "<table border=\"1\" class=\"dataframe\">\n",
       "  <thead>\n",
       "    <tr style=\"text-align: right;\">\n",
       "      <th></th>\n",
       "      <th>excerpt</th>\n",
       "      <th>word_count</th>\n",
       "      <th>char_count</th>\n",
       "      <th>sentence_count</th>\n",
       "      <th>avg_word_length</th>\n",
       "      <th>avg_sentence_lenght</th>\n",
       "      <th>easy_words</th>\n",
       "      <th>no_syllables</th>\n",
       "    </tr>\n",
       "  </thead>\n",
       "  <tbody>\n",
       "    <tr>\n",
       "      <th>0</th>\n",
       "      <td>My hope lay in Jack's promise that he would ke...</td>\n",
       "      <td>147</td>\n",
       "      <td>626</td>\n",
       "      <td>9</td>\n",
       "      <td>4.258503</td>\n",
       "      <td>16.333333</td>\n",
       "      <td>114</td>\n",
       "      <td>1</td>\n",
       "    </tr>\n",
       "  </tbody>\n",
       "</table>\n",
       "</div>"
      ],
      "text/plain": [
       "                                             excerpt  word_count  char_count  \\\n",
       "0  My hope lay in Jack's promise that he would ke...         147         626   \n",
       "\n",
       "   sentence_count  avg_word_length  avg_sentence_lenght  easy_words  \\\n",
       "0               9         4.258503            16.333333         114   \n",
       "\n",
       "   no_syllables  \n",
       "0             1  "
      ]
     },
     "execution_count": 28,
     "metadata": {},
     "output_type": "execute_result"
    }
   ],
   "source": [
    "test.head(1)"
   ]
  },
  {
   "cell_type": "code",
   "execution_count": 29,
   "id": "tropical-commission",
   "metadata": {
    "execution": {
     "iopub.execute_input": "2021-05-13T11:15:05.121938Z",
     "iopub.status.busy": "2021-05-13T11:15:05.120923Z",
     "iopub.status.idle": "2021-05-13T11:22:17.131132Z",
     "shell.execute_reply": "2021-05-13T11:22:17.130208Z"
    },
    "papermill": {
     "duration": 432.067543,
     "end_time": "2021-05-13T11:22:17.131331",
     "exception": false,
     "start_time": "2021-05-13T11:15:05.063788",
     "status": "completed"
    },
    "tags": []
   },
   "outputs": [],
   "source": [
    "ner = spacy.load('en_core_web_lg')  \n",
    "\n",
    "X_train[\"tags\"] = X_train[\"excerpt\"].apply(lambda x: [(tag.text, tag.label_) \n",
    "                                for tag in ner(x).ents] ) \n",
    "X_test[\"tags\"] = X_test[\"excerpt\"].apply(lambda x: [(tag.text, tag.label_) \n",
    "                                for tag in ner(x).ents] ) \n",
    "test[\"tags\"] = test[\"excerpt\"].apply(lambda x: [(tag.text, tag.label_) \n",
    "                                for tag in ner(x).ents] ) "
   ]
  },
  {
   "cell_type": "code",
   "execution_count": 30,
   "id": "accessory-walnut",
   "metadata": {
    "execution": {
     "iopub.execute_input": "2021-05-13T11:22:17.238064Z",
     "iopub.status.busy": "2021-05-13T11:22:17.237315Z",
     "iopub.status.idle": "2021-05-13T11:35:24.604187Z",
     "shell.execute_reply": "2021-05-13T11:35:24.603467Z"
    },
    "papermill": {
     "duration": 787.423651,
     "end_time": "2021-05-13T11:35:24.604348",
     "exception": false,
     "start_time": "2021-05-13T11:22:17.180697",
     "status": "completed"
    },
    "tags": []
   },
   "outputs": [],
   "source": [
    "X_train['pos'] = X_train['excerpt'].apply(lambda x : nltk.pos_tag(x,tagset = 'universal'))\n",
    "X_test['pos'] = X_test['excerpt'].apply(lambda x : nltk.pos_tag(x,tagset = 'universal'))\n",
    "test['pos'] = test['excerpt'].apply(lambda x : nltk.pos_tag(x,tagset = 'universal')) "
   ]
  },
  {
   "cell_type": "code",
   "execution_count": 31,
   "id": "hazardous-corpus",
   "metadata": {
    "execution": {
     "iopub.execute_input": "2021-05-13T11:35:24.717279Z",
     "iopub.status.busy": "2021-05-13T11:35:24.716640Z",
     "iopub.status.idle": "2021-05-13T11:35:24.719845Z",
     "shell.execute_reply": "2021-05-13T11:35:24.719305Z"
    },
    "papermill": {
     "duration": 0.058785,
     "end_time": "2021-05-13T11:35:24.719981",
     "exception": false,
     "start_time": "2021-05-13T11:35:24.661196",
     "status": "completed"
    },
    "tags": []
   },
   "outputs": [],
   "source": [
    "## utils function to count the element of a list\n",
    "def utils_lst_count(lst):\n",
    "    dic_counter = collections.Counter()\n",
    "    for x in lst:\n",
    "        dic_counter[x] += 1\n",
    "    dic_counter = collections.OrderedDict( \n",
    "                     sorted(dic_counter.items(), \n",
    "                     key=lambda x: x[1], reverse=True))\n",
    "    lst_count = [ {key:value} for key,value in dic_counter.items() ]\n",
    "    return lst_count "
   ]
  },
  {
   "cell_type": "code",
   "execution_count": 32,
   "id": "heavy-reader",
   "metadata": {
    "execution": {
     "iopub.execute_input": "2021-05-13T11:35:24.821706Z",
     "iopub.status.busy": "2021-05-13T11:35:24.821021Z",
     "iopub.status.idle": "2021-05-13T11:35:29.675891Z",
     "shell.execute_reply": "2021-05-13T11:35:29.676377Z"
    },
    "papermill": {
     "duration": 4.907677,
     "end_time": "2021-05-13T11:35:29.676609",
     "exception": false,
     "start_time": "2021-05-13T11:35:24.768932",
     "status": "completed"
    },
    "tags": []
   },
   "outputs": [],
   "source": [
    "## count tags\n",
    "X_train[\"tags\"] = X_train[\"tags\"].apply(lambda x: utils_lst_count(x)) \n",
    "X_test[\"tags\"] = X_test[\"tags\"].apply(lambda x: utils_lst_count(x))\n",
    "test[\"tags\"] = test[\"tags\"].apply(lambda x: utils_lst_count(x))\n",
    "X_train[\"pos\"] = X_train[\"pos\"].apply(lambda x: utils_lst_count(x)) \n",
    "X_test[\"pos\"] = X_test[\"pos\"].apply(lambda x: utils_lst_count(x))\n",
    "test[\"pos\"] = test[\"pos\"].apply(lambda x: utils_lst_count(x)) "
   ]
  },
  {
   "cell_type": "code",
   "execution_count": 33,
   "id": "raised-retailer",
   "metadata": {
    "execution": {
     "iopub.execute_input": "2021-05-13T11:35:29.781068Z",
     "iopub.status.busy": "2021-05-13T11:35:29.780366Z",
     "iopub.status.idle": "2021-05-13T11:35:29.786029Z",
     "shell.execute_reply": "2021-05-13T11:35:29.786520Z"
    },
    "papermill": {
     "duration": 0.05938,
     "end_time": "2021-05-13T11:35:29.786740",
     "exception": false,
     "start_time": "2021-05-13T11:35:29.727360",
     "status": "completed"
    },
    "tags": []
   },
   "outputs": [],
   "source": [
    "## utils function create new column for each tag category\n",
    "def utils_ner_features(lst_dics_tuples, tag):\n",
    "    if len(lst_dics_tuples) > 0:\n",
    "        tag_type = []\n",
    "        for dic_tuples in lst_dics_tuples:\n",
    "            for tuple in dic_tuples:\n",
    "                type, n = tuple[1], dic_tuples[tuple]\n",
    "                tag_type = tag_type + [type]*n\n",
    "                dic_counter = collections.Counter()\n",
    "                for x in tag_type:\n",
    "                    dic_counter[x] += 1\n",
    "        return dic_counter[tag]\n",
    "    else:\n",
    "        return 0 "
   ]
  },
  {
   "cell_type": "code",
   "execution_count": 34,
   "id": "incoming-plaintiff",
   "metadata": {
    "execution": {
     "iopub.execute_input": "2021-05-13T11:35:29.889462Z",
     "iopub.status.busy": "2021-05-13T11:35:29.888783Z",
     "iopub.status.idle": "2021-05-13T11:35:30.381544Z",
     "shell.execute_reply": "2021-05-13T11:35:30.380824Z"
    },
    "papermill": {
     "duration": 0.545307,
     "end_time": "2021-05-13T11:35:30.381706",
     "exception": false,
     "start_time": "2021-05-13T11:35:29.836399",
     "status": "completed"
    },
    "tags": []
   },
   "outputs": [],
   "source": [
    "## extract features\n",
    "tags_set = []\n",
    "for lst in X_train[\"tags\"].tolist():\n",
    "     for dic in lst:\n",
    "            for k in dic.keys():\n",
    "                tags_set.append(k[1])\n",
    "tags_set = list(set(tags_set))\n",
    "\n",
    "pos_set = []\n",
    "for lst in X_train[\"pos\"].tolist():\n",
    "     for dic in lst:\n",
    "            for k in dic.keys():\n",
    "                pos_set.append(k[1])\n",
    "pos_set = list(set(pos_set))"
   ]
  },
  {
   "cell_type": "code",
   "execution_count": 35,
   "id": "complimentary-messaging",
   "metadata": {
    "execution": {
     "iopub.execute_input": "2021-05-13T11:35:30.494207Z",
     "iopub.status.busy": "2021-05-13T11:35:30.489189Z",
     "iopub.status.idle": "2021-05-13T12:10:47.691460Z",
     "shell.execute_reply": "2021-05-13T12:10:47.690755Z"
    },
    "papermill": {
     "duration": 2117.260437,
     "end_time": "2021-05-13T12:10:47.691643",
     "exception": false,
     "start_time": "2021-05-13T11:35:30.431206",
     "status": "completed"
    },
    "tags": []
   },
   "outputs": [
    {
     "name": "stdout",
     "output_type": "stream",
     "text": [
      "pos\n"
     ]
    }
   ],
   "source": [
    "for feature in tags_set:\n",
    "     X_train[\"tags_\"+feature] = X_train[\"tags\"].apply(lambda x: \n",
    "                             utils_ner_features(x, feature)) \n",
    "\n",
    "for feature in tags_set:\n",
    "     X_test[\"tags_\"+feature] = X_test[\"tags\"].apply(lambda x: \n",
    "                             utils_ner_features(x, feature)) \n",
    "for feature in tags_set:\n",
    "     test[\"tags_\"+feature] = test[\"tags\"].apply(lambda x: \n",
    "                             utils_ner_features(x, feature)) \n",
    "print(\"pos\")\n",
    "        \n",
    "for feature in pos_set:\n",
    "     X_train[\"pos_\"+feature] = X_train[\"pos\"].apply(lambda x: \n",
    "                             utils_ner_features(x, feature)) \n",
    "for feature in pos_set:\n",
    "     X_test[\"pos_\"+feature] = X_test[\"pos\"].apply(lambda x: \n",
    "                             utils_ner_features(x, feature)) \n",
    "for feature in pos_set:\n",
    "     test[\"pos_\"+feature] = test[\"pos\"].apply(lambda x: \n",
    "                             utils_ner_features(x, feature))  "
   ]
  },
  {
   "cell_type": "code",
   "execution_count": 36,
   "id": "other-stanford",
   "metadata": {
    "execution": {
     "iopub.execute_input": "2021-05-13T12:10:47.817780Z",
     "iopub.status.busy": "2021-05-13T12:10:47.797266Z",
     "iopub.status.idle": "2021-05-13T12:10:47.870347Z",
     "shell.execute_reply": "2021-05-13T12:10:47.869803Z"
    },
    "papermill": {
     "duration": 0.128315,
     "end_time": "2021-05-13T12:10:47.870514",
     "exception": false,
     "start_time": "2021-05-13T12:10:47.742199",
     "status": "completed"
    },
    "tags": []
   },
   "outputs": [
    {
     "data": {
      "text/html": [
       "<div>\n",
       "<style scoped>\n",
       "    .dataframe tbody tr th:only-of-type {\n",
       "        vertical-align: middle;\n",
       "    }\n",
       "\n",
       "    .dataframe tbody tr th {\n",
       "        vertical-align: top;\n",
       "    }\n",
       "\n",
       "    .dataframe thead th {\n",
       "        text-align: right;\n",
       "    }\n",
       "</style>\n",
       "<table border=\"1\" class=\"dataframe\">\n",
       "  <thead>\n",
       "    <tr style=\"text-align: right;\">\n",
       "      <th></th>\n",
       "      <th>excerpt</th>\n",
       "      <th>word_count</th>\n",
       "      <th>char_count</th>\n",
       "      <th>sentence_count</th>\n",
       "      <th>avg_word_length</th>\n",
       "      <th>avg_sentence_lenght</th>\n",
       "      <th>easy_words</th>\n",
       "      <th>no_syllables</th>\n",
       "      <th>tags</th>\n",
       "      <th>pos</th>\n",
       "      <th>...</th>\n",
       "      <th>pos_ADV</th>\n",
       "      <th>pos_NOUN</th>\n",
       "      <th>pos_PRT</th>\n",
       "      <th>pos_.</th>\n",
       "      <th>pos_ADP</th>\n",
       "      <th>pos_PRON</th>\n",
       "      <th>pos_VERB</th>\n",
       "      <th>pos_NUM</th>\n",
       "      <th>pos_X</th>\n",
       "      <th>pos_DET</th>\n",
       "    </tr>\n",
       "  </thead>\n",
       "  <tbody>\n",
       "    <tr>\n",
       "      <th>0</th>\n",
       "      <td>Long, long, time ago, all the animals could ta...</td>\n",
       "      <td>145</td>\n",
       "      <td>698</td>\n",
       "      <td>13</td>\n",
       "      <td>4.813793</td>\n",
       "      <td>11.153846</td>\n",
       "      <td>74</td>\n",
       "      <td>1</td>\n",
       "      <td>[{('Baby Mosquito', 'PERSON'): 5}, {('One', 'C...</td>\n",
       "      <td>[{(' ', 'NOUN'): 115}, {('e', 'NOUN'): 72}, {(...</td>\n",
       "      <td>...</td>\n",
       "      <td>1</td>\n",
       "      <td>536</td>\n",
       "      <td>0</td>\n",
       "      <td>27</td>\n",
       "      <td>3</td>\n",
       "      <td>1</td>\n",
       "      <td>125</td>\n",
       "      <td>0</td>\n",
       "      <td>0</td>\n",
       "      <td>57</td>\n",
       "    </tr>\n",
       "  </tbody>\n",
       "</table>\n",
       "<p>1 rows × 40 columns</p>\n",
       "</div>"
      ],
      "text/plain": [
       "                                             excerpt  word_count  char_count  \\\n",
       "0  Long, long, time ago, all the animals could ta...         145         698   \n",
       "\n",
       "   sentence_count  avg_word_length  avg_sentence_lenght  easy_words  \\\n",
       "0              13         4.813793            11.153846          74   \n",
       "\n",
       "   no_syllables                                               tags  \\\n",
       "0             1  [{('Baby Mosquito', 'PERSON'): 5}, {('One', 'C...   \n",
       "\n",
       "                                                 pos  ...  pos_ADV  pos_NOUN  \\\n",
       "0  [{(' ', 'NOUN'): 115}, {('e', 'NOUN'): 72}, {(...  ...        1       536   \n",
       "\n",
       "   pos_PRT  pos_.  pos_ADP  pos_PRON  pos_VERB  pos_NUM  pos_X  pos_DET  \n",
       "0        0     27        3         1       125        0      0       57  \n",
       "\n",
       "[1 rows x 40 columns]"
      ]
     },
     "execution_count": 36,
     "metadata": {},
     "output_type": "execute_result"
    }
   ],
   "source": [
    "X_train.head(1)"
   ]
  },
  {
   "cell_type": "code",
   "execution_count": 37,
   "id": "armed-victim",
   "metadata": {
    "execution": {
     "iopub.execute_input": "2021-05-13T12:10:47.977709Z",
     "iopub.status.busy": "2021-05-13T12:10:47.976729Z",
     "iopub.status.idle": "2021-05-13T12:10:48.052591Z",
     "shell.execute_reply": "2021-05-13T12:10:48.053065Z"
    },
    "papermill": {
     "duration": 0.132367,
     "end_time": "2021-05-13T12:10:48.053265",
     "exception": false,
     "start_time": "2021-05-13T12:10:47.920898",
     "status": "completed"
    },
    "tags": []
   },
   "outputs": [
    {
     "data": {
      "text/html": [
       "<div>\n",
       "<style scoped>\n",
       "    .dataframe tbody tr th:only-of-type {\n",
       "        vertical-align: middle;\n",
       "    }\n",
       "\n",
       "    .dataframe tbody tr th {\n",
       "        vertical-align: top;\n",
       "    }\n",
       "\n",
       "    .dataframe thead th {\n",
       "        text-align: right;\n",
       "    }\n",
       "</style>\n",
       "<table border=\"1\" class=\"dataframe\">\n",
       "  <thead>\n",
       "    <tr style=\"text-align: right;\">\n",
       "      <th></th>\n",
       "      <th>excerpt</th>\n",
       "      <th>word_count</th>\n",
       "      <th>char_count</th>\n",
       "      <th>sentence_count</th>\n",
       "      <th>avg_word_length</th>\n",
       "      <th>avg_sentence_lenght</th>\n",
       "      <th>easy_words</th>\n",
       "      <th>no_syllables</th>\n",
       "      <th>tags</th>\n",
       "      <th>pos</th>\n",
       "      <th>...</th>\n",
       "      <th>pos_ADV</th>\n",
       "      <th>pos_NOUN</th>\n",
       "      <th>pos_PRT</th>\n",
       "      <th>pos_.</th>\n",
       "      <th>pos_ADP</th>\n",
       "      <th>pos_PRON</th>\n",
       "      <th>pos_VERB</th>\n",
       "      <th>pos_NUM</th>\n",
       "      <th>pos_X</th>\n",
       "      <th>pos_DET</th>\n",
       "    </tr>\n",
       "  </thead>\n",
       "  <tbody>\n",
       "    <tr>\n",
       "      <th>0</th>\n",
       "      <td>In the 1980s, many people liked to use an oper...</td>\n",
       "      <td>165</td>\n",
       "      <td>813</td>\n",
       "      <td>14</td>\n",
       "      <td>4.927273</td>\n",
       "      <td>11.785714</td>\n",
       "      <td>90</td>\n",
       "      <td>1</td>\n",
       "      <td>[{('Linus Torvalds', 'PERSON'): 2}, {('Linus',...</td>\n",
       "      <td>[{(' ', 'NOUN'): 129}, {('e', 'NOUN'): 88}, {(...</td>\n",
       "      <td>...</td>\n",
       "      <td>0</td>\n",
       "      <td>666</td>\n",
       "      <td>0</td>\n",
       "      <td>19</td>\n",
       "      <td>12</td>\n",
       "      <td>10</td>\n",
       "      <td>118</td>\n",
       "      <td>8</td>\n",
       "      <td>1</td>\n",
       "      <td>52</td>\n",
       "    </tr>\n",
       "  </tbody>\n",
       "</table>\n",
       "<p>1 rows × 40 columns</p>\n",
       "</div>"
      ],
      "text/plain": [
       "                                             excerpt  word_count  char_count  \\\n",
       "0  In the 1980s, many people liked to use an oper...         165         813   \n",
       "\n",
       "   sentence_count  avg_word_length  avg_sentence_lenght  easy_words  \\\n",
       "0              14         4.927273            11.785714          90   \n",
       "\n",
       "   no_syllables                                               tags  \\\n",
       "0             1  [{('Linus Torvalds', 'PERSON'): 2}, {('Linus',...   \n",
       "\n",
       "                                                 pos  ...  pos_ADV  pos_NOUN  \\\n",
       "0  [{(' ', 'NOUN'): 129}, {('e', 'NOUN'): 88}, {(...  ...        0       666   \n",
       "\n",
       "   pos_PRT  pos_.  pos_ADP  pos_PRON  pos_VERB  pos_NUM  pos_X  pos_DET  \n",
       "0        0     19       12        10       118        8      1       52  \n",
       "\n",
       "[1 rows x 40 columns]"
      ]
     },
     "execution_count": 37,
     "metadata": {},
     "output_type": "execute_result"
    }
   ],
   "source": [
    "X_test.head(1) "
   ]
  },
  {
   "cell_type": "code",
   "execution_count": 38,
   "id": "reverse-obligation",
   "metadata": {
    "execution": {
     "iopub.execute_input": "2021-05-13T12:10:48.160114Z",
     "iopub.status.busy": "2021-05-13T12:10:48.159184Z",
     "iopub.status.idle": "2021-05-13T12:10:48.231850Z",
     "shell.execute_reply": "2021-05-13T12:10:48.232301Z"
    },
    "papermill": {
     "duration": 0.128048,
     "end_time": "2021-05-13T12:10:48.232512",
     "exception": false,
     "start_time": "2021-05-13T12:10:48.104464",
     "status": "completed"
    },
    "tags": []
   },
   "outputs": [
    {
     "data": {
      "text/html": [
       "<div>\n",
       "<style scoped>\n",
       "    .dataframe tbody tr th:only-of-type {\n",
       "        vertical-align: middle;\n",
       "    }\n",
       "\n",
       "    .dataframe tbody tr th {\n",
       "        vertical-align: top;\n",
       "    }\n",
       "\n",
       "    .dataframe thead th {\n",
       "        text-align: right;\n",
       "    }\n",
       "</style>\n",
       "<table border=\"1\" class=\"dataframe\">\n",
       "  <thead>\n",
       "    <tr style=\"text-align: right;\">\n",
       "      <th></th>\n",
       "      <th>excerpt</th>\n",
       "      <th>word_count</th>\n",
       "      <th>char_count</th>\n",
       "      <th>sentence_count</th>\n",
       "      <th>avg_word_length</th>\n",
       "      <th>avg_sentence_lenght</th>\n",
       "      <th>easy_words</th>\n",
       "      <th>no_syllables</th>\n",
       "      <th>tags</th>\n",
       "      <th>pos</th>\n",
       "      <th>...</th>\n",
       "      <th>pos_ADV</th>\n",
       "      <th>pos_NOUN</th>\n",
       "      <th>pos_PRT</th>\n",
       "      <th>pos_.</th>\n",
       "      <th>pos_ADP</th>\n",
       "      <th>pos_PRON</th>\n",
       "      <th>pos_VERB</th>\n",
       "      <th>pos_NUM</th>\n",
       "      <th>pos_X</th>\n",
       "      <th>pos_DET</th>\n",
       "    </tr>\n",
       "  </thead>\n",
       "  <tbody>\n",
       "    <tr>\n",
       "      <th>0</th>\n",
       "      <td>My hope lay in Jack's promise that he would ke...</td>\n",
       "      <td>147</td>\n",
       "      <td>626</td>\n",
       "      <td>9</td>\n",
       "      <td>4.258503</td>\n",
       "      <td>16.333333</td>\n",
       "      <td>114</td>\n",
       "      <td>1</td>\n",
       "      <td>[{('Jack', 'PERSON'): 1}, {('a hundred yards',...</td>\n",
       "      <td>[{(' ', 'NOUN'): 110}, {('e', 'NOUN'): 53}, {(...</td>\n",
       "      <td>...</td>\n",
       "      <td>1</td>\n",
       "      <td>505</td>\n",
       "      <td>1</td>\n",
       "      <td>14</td>\n",
       "      <td>13</td>\n",
       "      <td>8</td>\n",
       "      <td>97</td>\n",
       "      <td>0</td>\n",
       "      <td>0</td>\n",
       "      <td>49</td>\n",
       "    </tr>\n",
       "  </tbody>\n",
       "</table>\n",
       "<p>1 rows × 40 columns</p>\n",
       "</div>"
      ],
      "text/plain": [
       "                                             excerpt  word_count  char_count  \\\n",
       "0  My hope lay in Jack's promise that he would ke...         147         626   \n",
       "\n",
       "   sentence_count  avg_word_length  avg_sentence_lenght  easy_words  \\\n",
       "0               9         4.258503            16.333333         114   \n",
       "\n",
       "   no_syllables                                               tags  \\\n",
       "0             1  [{('Jack', 'PERSON'): 1}, {('a hundred yards',...   \n",
       "\n",
       "                                                 pos  ...  pos_ADV  pos_NOUN  \\\n",
       "0  [{(' ', 'NOUN'): 110}, {('e', 'NOUN'): 53}, {(...  ...        1       505   \n",
       "\n",
       "   pos_PRT  pos_.  pos_ADP  pos_PRON  pos_VERB  pos_NUM  pos_X  pos_DET  \n",
       "0        1     14       13         8        97        0      0       49  \n",
       "\n",
       "[1 rows x 40 columns]"
      ]
     },
     "execution_count": 38,
     "metadata": {},
     "output_type": "execute_result"
    }
   ],
   "source": [
    "test.head(1) "
   ]
  },
  {
   "cell_type": "code",
   "execution_count": 39,
   "id": "undefined-customer",
   "metadata": {
    "execution": {
     "iopub.execute_input": "2021-05-13T12:10:48.415631Z",
     "iopub.status.busy": "2021-05-13T12:10:48.414675Z",
     "iopub.status.idle": "2021-05-13T12:15:12.831598Z",
     "shell.execute_reply": "2021-05-13T12:15:12.830348Z"
    },
    "papermill": {
     "duration": 264.54758,
     "end_time": "2021-05-13T12:15:12.831842",
     "exception": false,
     "start_time": "2021-05-13T12:10:48.284262",
     "status": "completed"
    },
    "tags": []
   },
   "outputs": [],
   "source": [
    "ps = WordNetLemmatizer()\n",
    "corpus=[]\n",
    "for i in range(0,len(X_train)):\n",
    "    review_data = re.sub('[^a-zA-Z]',' ',X_train['excerpt'][i])    \n",
    "    review_data = review_data.lower()\n",
    "    review_data = review_data.split()\n",
    "    \n",
    "    review_data = [ps.lemmatize(word) for word in review_data if not word in stopwords.words('english')]\n",
    "    review_data = \" \".join(review_data)\n",
    "    corpus.append(review_data)\n",
    "X_train['excerpt'] = corpus\n",
    "\n",
    "corpus=[]\n",
    "for i in range(0,len(X_test)):\n",
    "    review_data = re.sub('[^a-zA-Z]',' ',X_test['excerpt'][i])    \n",
    "    review_data = review_data.lower()\n",
    "    review_data = review_data.split()\n",
    "    \n",
    "    review_data = [ps.lemmatize(word) for word in review_data if not word in stopwords.words('english')]\n",
    "    review_data = \" \".join(review_data)\n",
    "    corpus.append(review_data)\n",
    "X_test['excerpt'] = corpus\n",
    "\n",
    "corpus=[]\n",
    "for i in range(0,len(test)):\n",
    "    review_data = re.sub('[^a-zA-Z]',' ',test['excerpt'][i])    \n",
    "    review_data = review_data.lower()\n",
    "    review_data = review_data.split()\n",
    "    \n",
    "    review_data = [ps.lemmatize(word) for word in review_data if not word in stopwords.words('english')]\n",
    "    review_data = \" \".join(review_data)\n",
    "    corpus.append(review_data)\n",
    "test['excerpt'] = corpus "
   ]
  },
  {
   "cell_type": "markdown",
   "id": "featured-villa",
   "metadata": {
    "papermill": {
     "duration": 0.05133,
     "end_time": "2021-05-13T12:15:12.937211",
     "exception": false,
     "start_time": "2021-05-13T12:15:12.885881",
     "status": "completed"
    },
    "tags": []
   },
   "source": [
    "## Gensim"
   ]
  },
  {
   "cell_type": "code",
   "execution_count": 40,
   "id": "dietary-disco",
   "metadata": {
    "execution": {
     "iopub.execute_input": "2021-05-13T12:15:13.047812Z",
     "iopub.status.busy": "2021-05-13T12:15:13.047167Z",
     "iopub.status.idle": "2021-05-13T12:21:02.861414Z",
     "shell.execute_reply": "2021-05-13T12:21:02.860637Z"
    },
    "papermill": {
     "duration": 349.872614,
     "end_time": "2021-05-13T12:21:02.861624",
     "exception": false,
     "start_time": "2021-05-13T12:15:12.989010",
     "status": "completed"
    },
    "tags": []
   },
   "outputs": [],
   "source": [
    "glove_input_file = '../input/nlpword2vecembeddingspretrained/glove.6B.200d.txt'\n",
    "word2vec_output_file = '/kaggle/working/glove.6B.100d.txt.word2vec'\n",
    "glove2word2vec(glove_input_file, word2vec_output_file)\n",
    "filename = '/kaggle/working/glove.6B.100d.txt.word2vec'\n",
    "nlp = KeyedVectors.load_word2vec_format(filename, binary=False)  "
   ]
  },
  {
   "cell_type": "code",
   "execution_count": 41,
   "id": "modified-glenn",
   "metadata": {
    "execution": {
     "iopub.execute_input": "2021-05-13T12:21:02.977898Z",
     "iopub.status.busy": "2021-05-13T12:21:02.977225Z",
     "iopub.status.idle": "2021-05-13T12:21:08.286870Z",
     "shell.execute_reply": "2021-05-13T12:21:08.286142Z"
    },
    "papermill": {
     "duration": 5.372556,
     "end_time": "2021-05-13T12:21:08.287028",
     "exception": false,
     "start_time": "2021-05-13T12:21:02.914472",
     "status": "completed"
    },
    "tags": []
   },
   "outputs": [],
   "source": [
    "vector = []\n",
    "for i in X_train['excerpt']:\n",
    "    t = np.zeros(200)  \n",
    "    for word in i.split():\n",
    "        if word in nlp.key_to_index:\n",
    "            t = t + nlp[word]\n",
    "    t = t/len(i)\n",
    "    vector.append(t)\n",
    "    \n",
    "X_train['vector'] = vector\n",
    "\n",
    "vector = []\n",
    "for i in X_test['excerpt']:\n",
    "    t = np.zeros(200)  \n",
    "    for word in i.split():\n",
    "        if word in nlp.key_to_index:\n",
    "            t = t + nlp[word]\n",
    "    t = t/len(i)\n",
    "    vector.append(t)\n",
    "    \n",
    "X_test['vector'] = vector\n",
    "\n",
    "vector = []\n",
    "for i in test['excerpt']:\n",
    "    t = np.zeros(200)  \n",
    "    for word in i.split():\n",
    "        if word in nlp.key_to_index:\n",
    "            t = t + nlp[word]\n",
    "    t = t/len(i)\n",
    "    vector.append(t)\n",
    "    \n",
    "test['vector'] = vector"
   ]
  },
  {
   "cell_type": "code",
   "execution_count": 42,
   "id": "julian-swiss",
   "metadata": {
    "execution": {
     "iopub.execute_input": "2021-05-13T12:21:08.439296Z",
     "iopub.status.busy": "2021-05-13T12:21:08.429001Z",
     "iopub.status.idle": "2021-05-13T12:21:09.826369Z",
     "shell.execute_reply": "2021-05-13T12:21:09.825826Z"
    },
    "papermill": {
     "duration": 1.487919,
     "end_time": "2021-05-13T12:21:09.826565",
     "exception": false,
     "start_time": "2021-05-13T12:21:08.338646",
     "status": "completed"
    },
    "tags": []
   },
   "outputs": [],
   "source": [
    "tr = list(X_train['vector'])\n",
    "dtr = pd.DataFrame(tr) \n",
    "X_train = X_train.join(dtr)\n",
    "\n",
    "tv = list(X_test['vector'])\n",
    "dtv = pd.DataFrame(tv)\n",
    "X_test = X_test.join(dtv)\n",
    "\n",
    "ts = list(test['vector'])\n",
    "dts = pd.DataFrame(ts)\n",
    "test = test.join(dts)"
   ]
  },
  {
   "cell_type": "markdown",
   "id": "spare-anaheim",
   "metadata": {
    "papermill": {
     "duration": 0.052069,
     "end_time": "2021-05-13T12:21:09.931182",
     "exception": false,
     "start_time": "2021-05-13T12:21:09.879113",
     "status": "completed"
    },
    "tags": []
   },
   "source": [
    "## Model"
   ]
  },
  {
   "cell_type": "code",
   "execution_count": 43,
   "id": "tutorial-malawi",
   "metadata": {
    "execution": {
     "iopub.execute_input": "2021-05-13T12:21:10.044482Z",
     "iopub.status.busy": "2021-05-13T12:21:10.043848Z",
     "iopub.status.idle": "2021-05-13T12:21:10.090193Z",
     "shell.execute_reply": "2021-05-13T12:21:10.089609Z"
    },
    "papermill": {
     "duration": 0.106629,
     "end_time": "2021-05-13T12:21:10.090357",
     "exception": false,
     "start_time": "2021-05-13T12:21:09.983728",
     "status": "completed"
    },
    "tags": []
   },
   "outputs": [],
   "source": [
    "X_train.drop(['excerpt','tags','vector','pos'],axis=1,inplace=True)\n",
    "X_test.drop(['excerpt','tags','vector','pos'],axis=1,inplace=True)\n",
    "test.drop(['excerpt','tags','vector','pos'],axis=1,inplace=True) "
   ]
  },
  {
   "cell_type": "code",
   "execution_count": 44,
   "id": "grand-rugby",
   "metadata": {
    "execution": {
     "iopub.execute_input": "2021-05-13T12:21:10.207680Z",
     "iopub.status.busy": "2021-05-13T12:21:10.206981Z",
     "iopub.status.idle": "2021-05-13T12:21:10.318372Z",
     "shell.execute_reply": "2021-05-13T12:21:10.317756Z"
    },
    "papermill": {
     "duration": 0.174406,
     "end_time": "2021-05-13T12:21:10.318534",
     "exception": false,
     "start_time": "2021-05-13T12:21:10.144128",
     "status": "completed"
    },
    "tags": []
   },
   "outputs": [],
   "source": [
    "scaler = StandardScaler()\n",
    "X_train = scaler.fit_transform(X_train)\n",
    "X_test = scaler.transform(X_test)\n",
    "test = scaler.transform(test) "
   ]
  },
  {
   "cell_type": "code",
   "execution_count": 45,
   "id": "wired-bulgarian",
   "metadata": {
    "execution": {
     "iopub.execute_input": "2021-05-13T12:21:10.428645Z",
     "iopub.status.busy": "2021-05-13T12:21:10.428007Z",
     "iopub.status.idle": "2021-05-13T12:21:10.623971Z",
     "shell.execute_reply": "2021-05-13T12:21:10.624928Z"
    },
    "papermill": {
     "duration": 0.254183,
     "end_time": "2021-05-13T12:21:10.625160",
     "exception": false,
     "start_time": "2021-05-13T12:21:10.370977",
     "status": "completed"
    },
    "tags": []
   },
   "outputs": [
    {
     "data": {
      "text/plain": [
       "0.49406964036980944"
      ]
     },
     "execution_count": 45,
     "metadata": {},
     "output_type": "execute_result"
    }
   ],
   "source": [
    "model_reg = LinearRegression()\n",
    "model_reg.fit(X_train,y_train) \n",
    "pred = model_reg.predict(X_test) \n",
    "mean_squared_error(y_test,pred) "
   ]
  },
  {
   "cell_type": "code",
   "execution_count": 46,
   "id": "painful-fiber",
   "metadata": {
    "execution": {
     "iopub.execute_input": "2021-05-13T12:21:10.804512Z",
     "iopub.status.busy": "2021-05-13T12:21:10.803904Z",
     "iopub.status.idle": "2021-05-13T12:21:34.877450Z",
     "shell.execute_reply": "2021-05-13T12:21:34.878287Z"
    },
    "papermill": {
     "duration": 24.131436,
     "end_time": "2021-05-13T12:21:34.878561",
     "exception": false,
     "start_time": "2021-05-13T12:21:10.747125",
     "status": "completed"
    },
    "tags": []
   },
   "outputs": [
    {
     "data": {
      "text/plain": [
       "0.5268753649364666"
      ]
     },
     "execution_count": 46,
     "metadata": {},
     "output_type": "execute_result"
    }
   ],
   "source": [
    "model_xgb = XGBRegressor()\n",
    "model_xgb.fit(X_train,y_train) \n",
    "pred = model_xgb.predict(X_test) \n",
    "mean_squared_error(y_test,pred) "
   ]
  },
  {
   "cell_type": "code",
   "execution_count": 47,
   "id": "trying-narrow",
   "metadata": {
    "execution": {
     "iopub.execute_input": "2021-05-13T12:21:34.988912Z",
     "iopub.status.busy": "2021-05-13T12:21:34.987934Z",
     "iopub.status.idle": "2021-05-13T12:21:37.901361Z",
     "shell.execute_reply": "2021-05-13T12:21:37.901831Z"
    },
    "papermill": {
     "duration": 2.970358,
     "end_time": "2021-05-13T12:21:37.902007",
     "exception": false,
     "start_time": "2021-05-13T12:21:34.931649",
     "status": "completed"
    },
    "tags": []
   },
   "outputs": [
    {
     "data": {
      "text/plain": [
       "1.023787323763595"
      ]
     },
     "execution_count": 47,
     "metadata": {},
     "output_type": "execute_result"
    }
   ],
   "source": [
    "model_tree = DecisionTreeRegressor()\n",
    "model_tree.fit(X_train,y_train)\n",
    "pred = model_tree.predict(X_test)\n",
    "mean_squared_error(y_test,pred) "
   ]
  },
  {
   "cell_type": "code",
   "execution_count": 48,
   "id": "responsible-float",
   "metadata": {
    "execution": {
     "iopub.execute_input": "2021-05-13T12:21:38.010360Z",
     "iopub.status.busy": "2021-05-13T12:21:38.009452Z",
     "iopub.status.idle": "2021-05-13T12:21:40.541340Z",
     "shell.execute_reply": "2021-05-13T12:21:40.542331Z"
    },
    "papermill": {
     "duration": 2.588304,
     "end_time": "2021-05-13T12:21:40.542571",
     "exception": false,
     "start_time": "2021-05-13T12:21:37.954267",
     "status": "completed"
    },
    "tags": []
   },
   "outputs": [
    {
     "data": {
      "text/plain": [
       "0.4595270226640616"
      ]
     },
     "execution_count": 48,
     "metadata": {},
     "output_type": "execute_result"
    }
   ],
   "source": [
    "model_lgb = LGBMRegressor()\n",
    "model_lgb.fit(X_train,y_train)\n",
    "pred = model_lgb.predict(X_test)\n",
    "mean_squared_error(y_test,pred)"
   ]
  },
  {
   "cell_type": "code",
   "execution_count": 49,
   "id": "mexican-privacy",
   "metadata": {
    "execution": {
     "iopub.execute_input": "2021-05-13T12:21:40.657817Z",
     "iopub.status.busy": "2021-05-13T12:21:40.657174Z",
     "iopub.status.idle": "2021-05-13T12:22:58.019071Z",
     "shell.execute_reply": "2021-05-13T12:22:58.019646Z"
    },
    "papermill": {
     "duration": 77.421957,
     "end_time": "2021-05-13T12:22:58.019854",
     "exception": false,
     "start_time": "2021-05-13T12:21:40.597897",
     "status": "completed"
    },
    "tags": []
   },
   "outputs": [
    {
     "data": {
      "text/plain": [
       "0.44918026991172716"
      ]
     },
     "execution_count": 49,
     "metadata": {},
     "output_type": "execute_result"
    }
   ],
   "source": [
    "model_gbm = GradientBoostingRegressor()\n",
    "model_gbm.fit(X_train,y_train)\n",
    "pred = model_gbm.predict(X_test)\n",
    "mean_squared_error(y_test,pred)"
   ]
  },
  {
   "cell_type": "code",
   "execution_count": 50,
   "id": "selected-circular",
   "metadata": {
    "execution": {
     "iopub.execute_input": "2021-05-13T12:22:58.136706Z",
     "iopub.status.busy": "2021-05-13T12:22:58.136035Z",
     "iopub.status.idle": "2021-05-13T12:22:58.278260Z",
     "shell.execute_reply": "2021-05-13T12:22:58.278767Z"
    },
    "papermill": {
     "duration": 0.205017,
     "end_time": "2021-05-13T12:22:58.278975",
     "exception": false,
     "start_time": "2021-05-13T12:22:58.073958",
     "status": "completed"
    },
    "tags": []
   },
   "outputs": [
    {
     "name": "stdout",
     "output_type": "stream",
     "text": [
      "Model: \"sequential\"\n",
      "_________________________________________________________________\n",
      "Layer (type)                 Output Shape              Param #   \n",
      "=================================================================\n",
      "dense (Dense)                (None, 128)               30464     \n",
      "_________________________________________________________________\n",
      "dense_1 (Dense)              (None, 128)               16512     \n",
      "_________________________________________________________________\n",
      "dense_2 (Dense)              (None, 128)               16512     \n",
      "_________________________________________________________________\n",
      "dense_3 (Dense)              (None, 128)               16512     \n",
      "_________________________________________________________________\n",
      "dense_4 (Dense)              (None, 128)               16512     \n",
      "_________________________________________________________________\n",
      "dense_5 (Dense)              (None, 1)                 129       \n",
      "=================================================================\n",
      "Total params: 96,641\n",
      "Trainable params: 96,641\n",
      "Non-trainable params: 0\n",
      "_________________________________________________________________\n"
     ]
    }
   ],
   "source": [
    "model = Sequential()\n",
    "#model.add(LSTM(128,input_dim = X_train.shape[1],activation = 'relu'))\n",
    "model.add(Dense(128,input_dim = X_train.shape[1],activation = 'relu'))\n",
    "model.add(Dense(128,activation = 'relu'))\n",
    "model.add(Dense(128,activation = 'relu'))\n",
    "model.add(Dense(128,activation = 'relu'))\n",
    "model.add(Dense(128,activation = 'relu'))\n",
    "model.add(Dense(1,activation = 'linear'))\n",
    "\n",
    "model.compile(loss='mean_squared_error', optimizer='adam')\n",
    "model.summary()"
   ]
  },
  {
   "cell_type": "code",
   "execution_count": 51,
   "id": "italic-ancient",
   "metadata": {
    "execution": {
     "iopub.execute_input": "2021-05-13T12:22:58.393084Z",
     "iopub.status.busy": "2021-05-13T12:22:58.392447Z",
     "iopub.status.idle": "2021-05-13T12:23:14.022086Z",
     "shell.execute_reply": "2021-05-13T12:23:14.021307Z"
    },
    "papermill": {
     "duration": 15.688177,
     "end_time": "2021-05-13T12:23:14.022261",
     "exception": false,
     "start_time": "2021-05-13T12:22:58.334084",
     "status": "completed"
    },
    "tags": []
   },
   "outputs": [
    {
     "name": "stdout",
     "output_type": "stream",
     "text": [
      "Epoch 1/15\n",
      "284/284 [==============================] - 2s 5ms/step - loss: 0.5541 - val_loss: 0.3438\n",
      "Epoch 2/15\n",
      "284/284 [==============================] - 1s 3ms/step - loss: 0.1400 - val_loss: 0.2373\n",
      "Epoch 3/15\n",
      "284/284 [==============================] - 1s 3ms/step - loss: 0.0646 - val_loss: 0.1254\n",
      "Epoch 4/15\n",
      "284/284 [==============================] - 1s 3ms/step - loss: 0.0398 - val_loss: 0.1044\n",
      "Epoch 5/15\n",
      "284/284 [==============================] - 1s 3ms/step - loss: 0.0306 - val_loss: 0.0796\n",
      "Epoch 6/15\n",
      "284/284 [==============================] - 1s 3ms/step - loss: 0.0276 - val_loss: 0.0566\n",
      "Epoch 7/15\n",
      "284/284 [==============================] - 1s 3ms/step - loss: 0.0208 - val_loss: 0.0487\n",
      "Epoch 8/15\n",
      "284/284 [==============================] - 1s 3ms/step - loss: 0.0179 - val_loss: 0.0495\n",
      "Epoch 9/15\n",
      "284/284 [==============================] - 1s 3ms/step - loss: 0.0210 - val_loss: 0.0591\n",
      "Epoch 10/15\n",
      "284/284 [==============================] - 1s 3ms/step - loss: 0.0224 - val_loss: 0.0495\n",
      "Epoch 11/15\n",
      "284/284 [==============================] - 1s 3ms/step - loss: 0.0240 - val_loss: 0.0490\n",
      "Epoch 12/15\n",
      "284/284 [==============================] - 1s 3ms/step - loss: 0.0199 - val_loss: 0.0454\n",
      "Epoch 13/15\n",
      "284/284 [==============================] - 1s 4ms/step - loss: 0.0157 - val_loss: 0.0376\n",
      "Epoch 14/15\n",
      "284/284 [==============================] - 1s 4ms/step - loss: 0.0166 - val_loss: 0.0464\n",
      "Epoch 15/15\n",
      "284/284 [==============================] - 1s 3ms/step - loss: 0.0184 - val_loss: 0.0375\n"
     ]
    }
   ],
   "source": [
    "history = model.fit(X_train,y_train,epochs = 15,validation_split = 0.2) "
   ]
  },
  {
   "cell_type": "code",
   "execution_count": 52,
   "id": "seeing-diana",
   "metadata": {
    "execution": {
     "iopub.execute_input": "2021-05-13T12:23:14.289542Z",
     "iopub.status.busy": "2021-05-13T12:23:14.288905Z",
     "iopub.status.idle": "2021-05-13T12:23:14.500843Z",
     "shell.execute_reply": "2021-05-13T12:23:14.500245Z"
    },
    "papermill": {
     "duration": 0.345397,
     "end_time": "2021-05-13T12:23:14.500999",
     "exception": false,
     "start_time": "2021-05-13T12:23:14.155602",
     "status": "completed"
    },
    "tags": []
   },
   "outputs": [
    {
     "data": {
      "text/plain": [
       "<matplotlib.legend.Legend at 0x7f3aeb552290>"
      ]
     },
     "execution_count": 52,
     "metadata": {},
     "output_type": "execute_result"
    },
    {
     "data": {
      "image/png": "[encoded data removed]",
      "text/plain": [
       "<Figure size 432x288 with 1 Axes>"
      ]
     },
     "metadata": {
      "needs_background": "light"
     },
     "output_type": "display_data"
    }
   ],
   "source": [
    "plt.plot(history.history['loss'])\n",
    "plt.plot(history.history['val_loss'])\n",
    "plt.legend(['train', 'test'], loc='upper left')  "
   ]
  },
  {
   "cell_type": "code",
   "execution_count": 53,
   "id": "immune-seller",
   "metadata": {
    "execution": {
     "iopub.execute_input": "2021-05-13T12:23:14.781254Z",
     "iopub.status.busy": "2021-05-13T12:23:14.780605Z",
     "iopub.status.idle": "2021-05-13T12:23:14.947625Z",
     "shell.execute_reply": "2021-05-13T12:23:14.947057Z"
    },
    "papermill": {
     "duration": 0.310107,
     "end_time": "2021-05-13T12:23:14.947794",
     "exception": false,
     "start_time": "2021-05-13T12:23:14.637687",
     "status": "completed"
    },
    "tags": []
   },
   "outputs": [
    {
     "data": {
      "text/plain": [
       "0.47839817142068136"
      ]
     },
     "execution_count": 53,
     "metadata": {},
     "output_type": "execute_result"
    }
   ],
   "source": [
    "mean_squared_error(y_test,model.predict(X_test))"
   ]
  },
  {
   "cell_type": "code",
   "execution_count": 54,
   "id": "supreme-narrow",
   "metadata": {
    "execution": {
     "iopub.execute_input": "2021-05-13T12:23:15.238238Z",
     "iopub.status.busy": "2021-05-13T12:23:15.237403Z",
     "iopub.status.idle": "2021-05-13T12:23:15.281778Z",
     "shell.execute_reply": "2021-05-13T12:23:15.281148Z"
    },
    "papermill": {
     "duration": 0.187548,
     "end_time": "2021-05-13T12:23:15.281936",
     "exception": false,
     "start_time": "2021-05-13T12:23:15.094388",
     "status": "completed"
    },
    "tags": []
   },
   "outputs": [],
   "source": [
    "pred = model.predict(test) "
   ]
  },
  {
   "cell_type": "code",
   "execution_count": 55,
   "id": "statutory-double",
   "metadata": {
    "execution": {
     "iopub.execute_input": "2021-05-13T12:23:15.562845Z",
     "iopub.status.busy": "2021-05-13T12:23:15.561890Z",
     "iopub.status.idle": "2021-05-13T12:23:15.566069Z",
     "shell.execute_reply": "2021-05-13T12:23:15.566677Z"
    },
    "papermill": {
     "duration": 0.148312,
     "end_time": "2021-05-13T12:23:15.566862",
     "exception": false,
     "start_time": "2021-05-13T12:23:15.418550",
     "status": "completed"
    },
    "tags": []
   },
   "outputs": [
    {
     "data": {
      "text/plain": [
       "(7, 1)"
      ]
     },
     "execution_count": 55,
     "metadata": {},
     "output_type": "execute_result"
    }
   ],
   "source": [
    "pred.shape"
   ]
  },
  {
   "cell_type": "code",
   "execution_count": 56,
   "id": "great-rapid",
   "metadata": {
    "execution": {
     "iopub.execute_input": "2021-05-13T12:23:15.848708Z",
     "iopub.status.busy": "2021-05-13T12:23:15.847717Z",
     "iopub.status.idle": "2021-05-13T12:23:15.853185Z",
     "shell.execute_reply": "2021-05-13T12:23:15.852684Z"
    },
    "papermill": {
     "duration": 0.145772,
     "end_time": "2021-05-13T12:23:15.853327",
     "exception": false,
     "start_time": "2021-05-13T12:23:15.707555",
     "status": "completed"
    },
    "tags": []
   },
   "outputs": [
    {
     "data": {
      "text/plain": [
       "(7,)"
      ]
     },
     "execution_count": 56,
     "metadata": {},
     "output_type": "execute_result"
    }
   ],
   "source": [
    "np.reshape(pred,(7,)).shape"
   ]
  },
  {
   "cell_type": "code",
   "execution_count": 57,
   "id": "answering-documentary",
   "metadata": {
    "execution": {
     "iopub.execute_input": "2021-05-13T12:23:16.128470Z",
     "iopub.status.busy": "2021-05-13T12:23:16.127487Z",
     "iopub.status.idle": "2021-05-13T12:23:16.134871Z",
     "shell.execute_reply": "2021-05-13T12:23:16.134187Z"
    },
    "papermill": {
     "duration": 0.147297,
     "end_time": "2021-05-13T12:23:16.135015",
     "exception": false,
     "start_time": "2021-05-13T12:23:15.987718",
     "status": "completed"
    },
    "tags": []
   },
   "outputs": [],
   "source": [
    "output = pd.DataFrame({'id': id_1, 'target':np.reshape(pred,(7,))})\n",
    "\n",
    "output.to_csv(\"/kaggle/working/submission.csv\",index=False)"
   ]
  },
  {
   "cell_type": "code",
   "execution_count": 58,
   "id": "printable-doubt",
   "metadata": {
    "execution": {
     "iopub.execute_input": "2021-05-13T12:23:16.413517Z",
     "iopub.status.busy": "2021-05-13T12:23:16.412715Z",
     "iopub.status.idle": "2021-05-13T12:23:16.416902Z",
     "shell.execute_reply": "2021-05-13T12:23:16.416369Z"
    },
    "papermill": {
     "duration": 0.147613,
     "end_time": "2021-05-13T12:23:16.417052",
     "exception": false,
     "start_time": "2021-05-13T12:23:16.269439",
     "status": "completed"
    },
    "tags": []
   },
   "outputs": [
    {
     "data": {
      "text/html": [
       "<div>\n",
       "<style scoped>\n",
       "    .dataframe tbody tr th:only-of-type {\n",
       "        vertical-align: middle;\n",
       "    }\n",
       "\n",
       "    .dataframe tbody tr th {\n",
       "        vertical-align: top;\n",
       "    }\n",
       "\n",
       "    .dataframe thead th {\n",
       "        text-align: right;\n",
       "    }\n",
       "</style>\n",
       "<table border=\"1\" class=\"dataframe\">\n",
       "  <thead>\n",
       "    <tr style=\"text-align: right;\">\n",
       "      <th></th>\n",
       "      <th>id</th>\n",
       "      <th>target</th>\n",
       "    </tr>\n",
       "  </thead>\n",
       "  <tbody>\n",
       "    <tr>\n",
       "      <th>0</th>\n",
       "      <td>c0f722661</td>\n",
       "      <td>-0.779540</td>\n",
       "    </tr>\n",
       "    <tr>\n",
       "      <th>1</th>\n",
       "      <td>f0953f0a5</td>\n",
       "      <td>-0.200166</td>\n",
       "    </tr>\n",
       "    <tr>\n",
       "      <th>2</th>\n",
       "      <td>0df072751</td>\n",
       "      <td>-0.550690</td>\n",
       "    </tr>\n",
       "    <tr>\n",
       "      <th>3</th>\n",
       "      <td>04caf4e0c</td>\n",
       "      <td>-2.372612</td>\n",
       "    </tr>\n",
       "    <tr>\n",
       "      <th>4</th>\n",
       "      <td>0e63f8bea</td>\n",
       "      <td>-1.415827</td>\n",
       "    </tr>\n",
       "    <tr>\n",
       "      <th>5</th>\n",
       "      <td>12537fe78</td>\n",
       "      <td>-0.711374</td>\n",
       "    </tr>\n",
       "    <tr>\n",
       "      <th>6</th>\n",
       "      <td>965e592c0</td>\n",
       "      <td>0.928718</td>\n",
       "    </tr>\n",
       "  </tbody>\n",
       "</table>\n",
       "</div>"
      ],
      "text/plain": [
       "          id    target\n",
       "0  c0f722661 -0.779540\n",
       "1  f0953f0a5 -0.200166\n",
       "2  0df072751 -0.550690\n",
       "3  04caf4e0c -2.372612\n",
       "4  0e63f8bea -1.415827\n",
       "5  12537fe78 -0.711374\n",
       "6  965e592c0  0.928718"
      ]
     },
     "execution_count": 58,
     "metadata": {},
     "output_type": "execute_result"
    }
   ],
   "source": [
    "output"
   ]
  },
  {
   "cell_type": "code",
   "execution_count": null,
   "id": "liked-chancellor",
   "metadata": {
    "papermill": {
     "duration": 0.140185,
     "end_time": "2021-05-13T12:23:16.696595",
     "exception": false,
     "start_time": "2021-05-13T12:23:16.556410",
     "status": "completed"
    },
    "tags": []
   },
   "outputs": [],
   "source": []
  }
 ],
 "metadata": {
  "kernelspec": {
   "display_name": "Python 3",
   "language": "python",
   "name": "python3"
  },
  "language_info": {
   "codemirror_mode": {
    "name": "ipython",
    "version": 3
   },
   "file_extension": ".py",
   "mimetype": "text/x-python",
   "name": "python",
   "nbconvert_exporter": "python",
   "pygments_lexer": "ipython3",
   "version": "3.7.10"
  },
  "papermill": {
   "default_parameters": {},
   "duration": 5196.555285,
   "end_time": "2021-05-13T12:23:19.445858",
   "environment_variables": {},
   "exception": null,
   "input_path": "__notebook__.ipynb",
   "output_path": "__notebook__.ipynb",
   "parameters": {},
   "start_time": "2021-05-13T10:56:42.890573",
   "version": "2.3.3"
  }
 },
 "nbformat": 4,
 "nbformat_minor": 5
}
